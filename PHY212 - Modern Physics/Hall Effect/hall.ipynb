{
 "cells": [
  {
   "cell_type": "code",
   "execution_count": 2,
   "metadata": {},
   "outputs": [
    {
     "data": {
      "text/html": [
       "<div>\n",
       "<style scoped>\n",
       "    .dataframe tbody tr th:only-of-type {\n",
       "        vertical-align: middle;\n",
       "    }\n",
       "\n",
       "    .dataframe tbody tr th {\n",
       "        vertical-align: top;\n",
       "    }\n",
       "\n",
       "    .dataframe thead th {\n",
       "        text-align: right;\n",
       "    }\n",
       "</style>\n",
       "<table border=\"1\" class=\"dataframe\">\n",
       "  <thead>\n",
       "    <tr style=\"text-align: right;\">\n",
       "      <th></th>\n",
       "      <th>Current (mA)</th>\n",
       "      <th>V_H plus (mV)</th>\n",
       "      <th>V_H minus (mV)</th>\n",
       "      <th>Mean VH (mV)</th>\n",
       "      <th>VH/I (Ω)</th>\n",
       "      <th>1900 gauss</th>\n",
       "      <th>15 v 3.5 a</th>\n",
       "      <th>Unnamed: 7</th>\n",
       "    </tr>\n",
       "  </thead>\n",
       "  <tbody>\n",
       "    <tr>\n",
       "      <th>0</th>\n",
       "      <td>0.00</td>\n",
       "      <td>0.0</td>\n",
       "      <td>0.0</td>\n",
       "      <td>0</td>\n",
       "      <td>0.000</td>\n",
       "      <td>NaN</td>\n",
       "      <td>NaN</td>\n",
       "      <td>0.000</td>\n",
       "    </tr>\n",
       "    <tr>\n",
       "      <th>1</th>\n",
       "      <td>5.03</td>\n",
       "      <td>4.6</td>\n",
       "      <td>4.5</td>\n",
       "      <td>4.55</td>\n",
       "      <td>0.905</td>\n",
       "      <td>NaN</td>\n",
       "      <td>NaN</td>\n",
       "      <td>0.905</td>\n",
       "    </tr>\n",
       "    <tr>\n",
       "      <th>2</th>\n",
       "      <td>5.53</td>\n",
       "      <td>5.0</td>\n",
       "      <td>4.9</td>\n",
       "      <td>4.95</td>\n",
       "      <td>0.895</td>\n",
       "      <td>NaN</td>\n",
       "      <td>NaN</td>\n",
       "      <td>0.895</td>\n",
       "    </tr>\n",
       "    <tr>\n",
       "      <th>3</th>\n",
       "      <td>5.98</td>\n",
       "      <td>5.4</td>\n",
       "      <td>5.3</td>\n",
       "      <td>5.35</td>\n",
       "      <td>0.895</td>\n",
       "      <td>NaN</td>\n",
       "      <td>NaN</td>\n",
       "      <td>0.895</td>\n",
       "    </tr>\n",
       "    <tr>\n",
       "      <th>4</th>\n",
       "      <td>6.52</td>\n",
       "      <td>6.0</td>\n",
       "      <td>5.9</td>\n",
       "      <td>5.95</td>\n",
       "      <td>0.913</td>\n",
       "      <td>NaN</td>\n",
       "      <td>NaN</td>\n",
       "      <td>0.913</td>\n",
       "    </tr>\n",
       "    <tr>\n",
       "      <th>5</th>\n",
       "      <td>7.00</td>\n",
       "      <td>6.4</td>\n",
       "      <td>6.6</td>\n",
       "      <td>6.5</td>\n",
       "      <td>0.929</td>\n",
       "      <td>NaN</td>\n",
       "      <td>NaN</td>\n",
       "      <td>0.929</td>\n",
       "    </tr>\n",
       "    <tr>\n",
       "      <th>6</th>\n",
       "      <td>7.49</td>\n",
       "      <td>6.9</td>\n",
       "      <td>6.8</td>\n",
       "      <td>6.85</td>\n",
       "      <td>0.915</td>\n",
       "      <td>NaN</td>\n",
       "      <td>NaN</td>\n",
       "      <td>0.915</td>\n",
       "    </tr>\n",
       "    <tr>\n",
       "      <th>7</th>\n",
       "      <td>8.08</td>\n",
       "      <td>7.5</td>\n",
       "      <td>7.4</td>\n",
       "      <td>7.45</td>\n",
       "      <td>0.922</td>\n",
       "      <td>NaN</td>\n",
       "      <td>NaN</td>\n",
       "      <td>0.922</td>\n",
       "    </tr>\n",
       "    <tr>\n",
       "      <th>8</th>\n",
       "      <td>8.50</td>\n",
       "      <td>7.9</td>\n",
       "      <td>7.8</td>\n",
       "      <td>7.85</td>\n",
       "      <td>0.924</td>\n",
       "      <td>NaN</td>\n",
       "      <td>NaN</td>\n",
       "      <td>0.924</td>\n",
       "    </tr>\n",
       "    <tr>\n",
       "      <th>9</th>\n",
       "      <td>9.05</td>\n",
       "      <td>8.4</td>\n",
       "      <td>8.3</td>\n",
       "      <td>8.35</td>\n",
       "      <td>0.923</td>\n",
       "      <td>NaN</td>\n",
       "      <td>NaN</td>\n",
       "      <td>0.923</td>\n",
       "    </tr>\n",
       "    <tr>\n",
       "      <th>10</th>\n",
       "      <td>9.52</td>\n",
       "      <td>8.9</td>\n",
       "      <td>8.8</td>\n",
       "      <td>8.85</td>\n",
       "      <td>0.930</td>\n",
       "      <td>NaN</td>\n",
       "      <td>NaN</td>\n",
       "      <td>0.930</td>\n",
       "    </tr>\n",
       "    <tr>\n",
       "      <th>11</th>\n",
       "      <td>10.04</td>\n",
       "      <td>9.4</td>\n",
       "      <td>9.3</td>\n",
       "      <td>9.35</td>\n",
       "      <td>0.931</td>\n",
       "      <td>NaN</td>\n",
       "      <td>NaN</td>\n",
       "      <td>0.931</td>\n",
       "    </tr>\n",
       "    <tr>\n",
       "      <th>12</th>\n",
       "      <td>10.54</td>\n",
       "      <td>9.9</td>\n",
       "      <td>9.8</td>\n",
       "      <td>9.85</td>\n",
       "      <td>0.935</td>\n",
       "      <td>NaN</td>\n",
       "      <td>NaN</td>\n",
       "      <td>0.935</td>\n",
       "    </tr>\n",
       "    <tr>\n",
       "      <th>13</th>\n",
       "      <td>10.99</td>\n",
       "      <td>10.1</td>\n",
       "      <td>10.2</td>\n",
       "      <td>10.15</td>\n",
       "      <td>0.924</td>\n",
       "      <td>NaN</td>\n",
       "      <td>NaN</td>\n",
       "      <td>0.924</td>\n",
       "    </tr>\n",
       "    <tr>\n",
       "      <th>14</th>\n",
       "      <td>11.49</td>\n",
       "      <td>10.6</td>\n",
       "      <td>10.5</td>\n",
       "      <td>10.55</td>\n",
       "      <td>0.918</td>\n",
       "      <td>NaN</td>\n",
       "      <td>NaN</td>\n",
       "      <td>0.918</td>\n",
       "    </tr>\n",
       "    <tr>\n",
       "      <th>15</th>\n",
       "      <td>12.00</td>\n",
       "      <td>11.0</td>\n",
       "      <td>11.1</td>\n",
       "      <td>11.05</td>\n",
       "      <td>0.921</td>\n",
       "      <td>NaN</td>\n",
       "      <td>NaN</td>\n",
       "      <td>0.921</td>\n",
       "    </tr>\n",
       "    <tr>\n",
       "      <th>16</th>\n",
       "      <td>12.49</td>\n",
       "      <td>11.5</td>\n",
       "      <td>11.4</td>\n",
       "      <td>11.45</td>\n",
       "      <td>0.917</td>\n",
       "      <td>NaN</td>\n",
       "      <td>NaN</td>\n",
       "      <td>0.917</td>\n",
       "    </tr>\n",
       "    <tr>\n",
       "      <th>17</th>\n",
       "      <td>12.98</td>\n",
       "      <td>12.0</td>\n",
       "      <td>11.9</td>\n",
       "      <td>11.95</td>\n",
       "      <td>0.921</td>\n",
       "      <td>NaN</td>\n",
       "      <td>NaN</td>\n",
       "      <td>0.921</td>\n",
       "    </tr>\n",
       "    <tr>\n",
       "      <th>18</th>\n",
       "      <td>13.75</td>\n",
       "      <td>12.7</td>\n",
       "      <td>12.6</td>\n",
       "      <td>12.65</td>\n",
       "      <td>0.920</td>\n",
       "      <td>NaN</td>\n",
       "      <td>NaN</td>\n",
       "      <td>0.920</td>\n",
       "    </tr>\n",
       "    <tr>\n",
       "      <th>19</th>\n",
       "      <td>NaN</td>\n",
       "      <td>NaN</td>\n",
       "      <td>NaN</td>\n",
       "      <td>mean resistance</td>\n",
       "      <td>0.919</td>\n",
       "      <td>NaN</td>\n",
       "      <td>NaN</td>\n",
       "      <td>0.919</td>\n",
       "    </tr>\n",
       "  </tbody>\n",
       "</table>\n",
       "</div>"
      ],
      "text/plain": [
       "    Current (mA)  V_H plus (mV)  V_H minus (mV)     Mean VH (mV)  VH/I (Ω)   \n",
       "0           0.00            0.0             0.0                0     0.000  \\\n",
       "1           5.03            4.6             4.5             4.55     0.905   \n",
       "2           5.53            5.0             4.9             4.95     0.895   \n",
       "3           5.98            5.4             5.3             5.35     0.895   \n",
       "4           6.52            6.0             5.9             5.95     0.913   \n",
       "5           7.00            6.4             6.6              6.5     0.929   \n",
       "6           7.49            6.9             6.8             6.85     0.915   \n",
       "7           8.08            7.5             7.4             7.45     0.922   \n",
       "8           8.50            7.9             7.8             7.85     0.924   \n",
       "9           9.05            8.4             8.3             8.35     0.923   \n",
       "10          9.52            8.9             8.8             8.85     0.930   \n",
       "11         10.04            9.4             9.3             9.35     0.931   \n",
       "12         10.54            9.9             9.8             9.85     0.935   \n",
       "13         10.99           10.1            10.2            10.15     0.924   \n",
       "14         11.49           10.6            10.5            10.55     0.918   \n",
       "15         12.00           11.0            11.1            11.05     0.921   \n",
       "16         12.49           11.5            11.4            11.45     0.917   \n",
       "17         12.98           12.0            11.9            11.95     0.921   \n",
       "18         13.75           12.7            12.6            12.65     0.920   \n",
       "19           NaN            NaN             NaN  mean resistance     0.919   \n",
       "\n",
       "    1900 gauss  15 v 3.5 a  Unnamed: 7  \n",
       "0          NaN         NaN       0.000  \n",
       "1          NaN         NaN       0.905  \n",
       "2          NaN         NaN       0.895  \n",
       "3          NaN         NaN       0.895  \n",
       "4          NaN         NaN       0.913  \n",
       "5          NaN         NaN       0.929  \n",
       "6          NaN         NaN       0.915  \n",
       "7          NaN         NaN       0.922  \n",
       "8          NaN         NaN       0.924  \n",
       "9          NaN         NaN       0.923  \n",
       "10         NaN         NaN       0.930  \n",
       "11         NaN         NaN       0.931  \n",
       "12         NaN         NaN       0.935  \n",
       "13         NaN         NaN       0.924  \n",
       "14         NaN         NaN       0.918  \n",
       "15         NaN         NaN       0.921  \n",
       "16         NaN         NaN       0.917  \n",
       "17         NaN         NaN       0.921  \n",
       "18         NaN         NaN       0.920  \n",
       "19         NaN         NaN       0.919  "
      ]
     },
     "execution_count": 2,
     "metadata": {},
     "output_type": "execute_result"
    }
   ],
   "source": [
    "import numpy as np\n",
    "import matplotlib.pyplot as plt\n",
    "import pandas as pd\n",
    "from scipy.optimize import curve_fit\n",
    "\n",
    "import scienceplots\n",
    "plt.style.use(['science','no-latex'])\n",
    "\n",
    "df= pd.read_excel('hall.xlsx')\n",
    "df\n",
    "\n",
    "I=df['Current (mA)']\n",
    "V_h=df['Mean VH (mV)']\n",
    "\n",
    "V_h=V_h[:19:]\n",
    "V_h\n",
    "I=I[:19:]\n",
    "df\n"
   ]
  },
  {
   "cell_type": "code",
   "execution_count": 3,
   "metadata": {},
   "outputs": [
    {
     "data": {
      "text/plain": [
       "array([0.92112486])"
      ]
     },
     "execution_count": 3,
     "metadata": {},
     "output_type": "execute_result"
    }
   ],
   "source": [
    "def f(x,a):\n",
    "    return a*x\n",
    "popt,pcov=curve_fit(f,I,V_h)\n",
    "popt"
   ]
  },
  {
   "cell_type": "code",
   "execution_count": 16,
   "metadata": {},
   "outputs": [
    {
     "data": {
      "text/plain": [
       "<matplotlib.legend.Legend at 0x7f8d53916f50>"
      ]
     },
     "execution_count": 16,
     "metadata": {},
     "output_type": "execute_result"
    },
    {
     "data": {
      "image/png": "[encoded data removed]",
      "text/plain": [
       "<Figure size 900x600 with 1 Axes>"
      ]
     },
     "metadata": {},
     "output_type": "display_data"
    }
   ],
   "source": [
    "plt.rcParams.update({'font.size': 17})\n",
    "plt.figure(figsize=(9, 6))\n",
    "x=np.linspace(0,14,num=100)\n",
    "plt.plot(x,f(x,*popt),'r--',label=r'fit : 0.921x')\n",
    "plt.xticks(np.arange(0,16,2))\n",
    "plt.yticks(np.arange(0,16,2))\n",
    "plt.plot(I,V_h,'k+',ms=12)\n",
    "plt.xlabel('Current (mA)')\n",
    "plt.ylabel('Hall Voltage (mV)')\n",
    "\n",
    "plt.legend()"
   ]
  },
  {
   "cell_type": "code",
   "execution_count": 5,
   "metadata": {},
   "outputs": [
    {
     "data": {
      "text/plain": [
       "array([[0.00185608]])"
      ]
     },
     "execution_count": 5,
     "metadata": {},
     "output_type": "execute_result"
    }
   ],
   "source": [
    "np.sqrt(pcov)"
   ]
  },
  {
   "cell_type": "code",
   "execution_count": 6,
   "metadata": {},
   "outputs": [],
   "source": [
    "res = popt[0]\n",
    "t=5e-4 #m\n",
    "b=4e-3 #m\n",
    "l=6e-3 #m\n",
    "B=1900e-4 #T \n",
    "\n",
    "\n",
    "R_h=(res*t)/B\n",
    "\n",
    "e=1.6e-19 #C\n",
    "\n",
    "n=(e*R_h)**-1\n",
    "\n",
    "\n",
    "I_r=np.array([0.51,1,1.53,2.02,2.5])\n",
    "V_r=np.array([217,425,653,860,1060])\n",
    "p=(V_r*b*t)/(I_r*l)\n",
    "u=R_h/np.mean(p)\n",
    "\n",
    "O=np.arctan(u*B)"
   ]
  },
  {
   "cell_type": "markdown",
   "metadata": {},
   "source": [
    "Hall  Coefficient"
   ]
  },
  {
   "cell_type": "code",
   "execution_count": 7,
   "metadata": {},
   "outputs": [
    {
     "data": {
      "text/plain": [
       "0.0024240127938093435"
      ]
     },
     "execution_count": 7,
     "metadata": {},
     "output_type": "execute_result"
    }
   ],
   "source": [
    "R_h #m3 C-1 "
   ]
  },
  {
   "cell_type": "markdown",
   "metadata": {},
   "source": [
    "Density of charge carriers"
   ]
  },
  {
   "cell_type": "code",
   "execution_count": 8,
   "metadata": {},
   "outputs": [
    {
     "data": {
      "text/plain": [
       "2.5783692297176807e+21"
      ]
     },
     "execution_count": 8,
     "metadata": {},
     "output_type": "execute_result"
    }
   ],
   "source": [
    "n #carriers/m3"
   ]
  },
  {
   "cell_type": "markdown",
   "metadata": {},
   "source": [
    "Resistivity"
   ]
  },
  {
   "cell_type": "code",
   "execution_count": 9,
   "metadata": {},
   "outputs": [
    {
     "data": {
      "text/plain": [
       "0.14180201039711812"
      ]
     },
     "execution_count": 9,
     "metadata": {},
     "output_type": "execute_result"
    }
   ],
   "source": [
    "np.mean(p) #ohm m"
   ]
  },
  {
   "cell_type": "markdown",
   "metadata": {},
   "source": [
    "Mobility of CHarge carriers"
   ]
  },
  {
   "cell_type": "code",
   "execution_count": 10,
   "metadata": {},
   "outputs": [
    {
     "data": {
      "text/plain": [
       "0.01709434716067049"
      ]
     },
     "execution_count": 10,
     "metadata": {},
     "output_type": "execute_result"
    }
   ],
   "source": [
    "u #m2/Vs"
   ]
  },
  {
   "cell_type": "markdown",
   "metadata": {},
   "source": [
    "Hall Angle"
   ]
  },
  {
   "cell_type": "code",
   "execution_count": 11,
   "metadata": {},
   "outputs": [
    {
     "data": {
      "text/plain": [
       "11.165507720929313"
      ]
     },
     "execution_count": 11,
     "metadata": {},
     "output_type": "execute_result"
    }
   ],
   "source": [
    "np.degrees(O)*60 #min"
   ]
  }
 ],
 "metadata": {
  "kernelspec": {
   "display_name": "base",
   "language": "python",
   "name": "python3"
  },
  "language_info": {
   "codemirror_mode": {
    "name": "ipython",
    "version": 3
   },
   "file_extension": ".py",
   "mimetype": "text/x-python",
   "name": "python",
   "nbconvert_exporter": "python",
   "pygments_lexer": "ipython3",
   "version": "3.10.14"
  }
 },
 "nbformat": 4,
 "nbformat_minor": 2
}
