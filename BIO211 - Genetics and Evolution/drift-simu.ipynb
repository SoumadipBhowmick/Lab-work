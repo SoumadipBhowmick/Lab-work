{
 "cells": [
  {
   "cell_type": "code",
   "execution_count": 2,
   "metadata": {},
   "outputs": [],
   "source": [
    "import pandas as pd\n",
    "import numpy as np\n",
    "import random as rn\n",
    "import matplotlib.pyplot as plt\n",
    "import scienceplots\n",
    "from scipy.optimize import curve_fit\n",
    "plt.style.use(['science','no-latex'])"
   ]
  },
  {
   "cell_type": "code",
   "execution_count": 7,
   "metadata": {},
   "outputs": [
    {
     "ename": "ValueError",
     "evalue": "could not convert string to float: 'A1A2'",
     "output_type": "error",
     "traceback": [
      "\u001b[0;31m---------------------------------------------------------------------------\u001b[0m",
      "\u001b[0;31mValueError\u001b[0m                                Traceback (most recent call last)",
      "Cell \u001b[0;32mIn[7], line 10\u001b[0m\n\u001b[1;32m      8\u001b[0m \u001b[39mif\u001b[39;00m egg \u001b[39m<\u001b[39m p\u001b[39m*\u001b[39m\u001b[39m10\u001b[39m :\n\u001b[1;32m      9\u001b[0m     \u001b[39mif\u001b[39;00m sperm \u001b[39m>\u001b[39m q\u001b[39m*\u001b[39m\u001b[39m10\u001b[39m:\n\u001b[0;32m---> 10\u001b[0m         progeny[i]\u001b[39m=\u001b[39m\u001b[39m\"\u001b[39m\u001b[39mA1A2\u001b[39m\u001b[39m\"\u001b[39m\n\u001b[1;32m     11\u001b[0m     \u001b[39melse\u001b[39;00m:\n\u001b[1;32m     12\u001b[0m         progeny[i]\u001b[39m=\u001b[39m\u001b[39m'\u001b[39m\u001b[39mA1A1\u001b[39m\u001b[39m'\u001b[39m\n",
      "\u001b[0;31mValueError\u001b[0m: could not convert string to float: 'A1A2'"
     ]
    }
   ],
   "source": [
    "#100 gamwtes\n",
    "p=0.6\n",
    "q=0.4\n",
    "progeny=np.zeros(10)\n",
    "for i in range(10):\n",
    "    egg=rn.randint(0,100)\n",
    "    sperm=rn.randint(0,100)\n",
    "    if egg < p*10 :\n",
    "        if sperm > q*10:\n",
    "            progeny[i]=\"A1A2\"\n",
    "        else:\n",
    "            progeny[i]='A1A1'\n",
    "    else:\n",
    "        if sperm > q*10:\n",
    "            progeny[i]='A2A2'\n",
    "        else:\n",
    "            progeny[i]='A1A2'\n",
    "progeny\n",
    "    \n"
   ]
  },
  {
   "cell_type": "code",
   "execution_count": 6,
   "metadata": {},
   "outputs": [
    {
     "data": {
      "text/plain": [
       "array([0., 0., 0., 0., 0., 0., 0., 0., 0., 0.])"
      ]
     },
     "execution_count": 6,
     "metadata": {},
     "output_type": "execute_result"
    }
   ],
   "source": [
    "rn.randint(0,100)\n",
    "progeny"
   ]
  }
 ],
 "metadata": {
  "kernelspec": {
   "display_name": "base",
   "language": "python",
   "name": "python3"
  },
  "language_info": {
   "codemirror_mode": {
    "name": "ipython",
    "version": 3
   },
   "file_extension": ".py",
   "mimetype": "text/x-python",
   "name": "python",
   "nbconvert_exporter": "python",
   "pygments_lexer": "ipython3",
   "version": "3.10.9"
  },
  "orig_nbformat": 4
 },
 "nbformat": 4,
 "nbformat_minor": 2
}
