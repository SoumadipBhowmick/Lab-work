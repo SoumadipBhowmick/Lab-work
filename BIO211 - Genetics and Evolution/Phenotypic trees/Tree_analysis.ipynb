{
 "cells": [
  {
   "cell_type": "code",
   "execution_count": 52,
   "id": "a53c5276",
   "metadata": {
    "scrolled": false
   },
   "outputs": [
    {
     "data": {
      "text/html": [
       "<div>\n",
       "<style scoped>\n",
       "    .dataframe tbody tr th:only-of-type {\n",
       "        vertical-align: middle;\n",
       "    }\n",
       "\n",
       "    .dataframe tbody tr th {\n",
       "        vertical-align: top;\n",
       "    }\n",
       "\n",
       "    .dataframe thead th {\n",
       "        text-align: right;\n",
       "    }\n",
       "</style>\n",
       "<table border=\"1\" class=\"dataframe\">\n",
       "  <thead>\n",
       "    <tr style=\"text-align: right;\">\n",
       "      <th></th>\n",
       "      <th>Pidgey Sequence</th>\n",
       "      <th>Base</th>\n",
       "      <th>Unnamed: 2</th>\n",
       "      <th>Unnamed: 3</th>\n",
       "      <th>Unnamed: 4</th>\n",
       "    </tr>\n",
       "  </thead>\n",
       "  <tbody>\n",
       "    <tr>\n",
       "      <th>0</th>\n",
       "      <td>Position</td>\n",
       "      <td>1.0</td>\n",
       "      <td>NaN</td>\n",
       "      <td>NaN</td>\n",
       "      <td>NaN</td>\n",
       "    </tr>\n",
       "    <tr>\n",
       "      <th>1</th>\n",
       "      <td>1</td>\n",
       "      <td>1.0</td>\n",
       "      <td>NaN</td>\n",
       "      <td>1= A</td>\n",
       "      <td>NaN</td>\n",
       "    </tr>\n",
       "    <tr>\n",
       "      <th>2</th>\n",
       "      <td>2</td>\n",
       "      <td>2.0</td>\n",
       "      <td>NaN</td>\n",
       "      <td>2= T</td>\n",
       "      <td>NaN</td>\n",
       "    </tr>\n",
       "    <tr>\n",
       "      <th>3</th>\n",
       "      <td>3</td>\n",
       "      <td>4.0</td>\n",
       "      <td>NaN</td>\n",
       "      <td>3= G</td>\n",
       "      <td>NaN</td>\n",
       "    </tr>\n",
       "    <tr>\n",
       "      <th>4</th>\n",
       "      <td>4</td>\n",
       "      <td>2.0</td>\n",
       "      <td>NaN</td>\n",
       "      <td>4= C</td>\n",
       "      <td>NaN</td>\n",
       "    </tr>\n",
       "    <tr>\n",
       "      <th>...</th>\n",
       "      <td>...</td>\n",
       "      <td>...</td>\n",
       "      <td>...</td>\n",
       "      <td>...</td>\n",
       "      <td>...</td>\n",
       "    </tr>\n",
       "    <tr>\n",
       "      <th>96</th>\n",
       "      <td>96</td>\n",
       "      <td>2.0</td>\n",
       "      <td>NaN</td>\n",
       "      <td>NaN</td>\n",
       "      <td>1.0</td>\n",
       "    </tr>\n",
       "    <tr>\n",
       "      <th>97</th>\n",
       "      <td>97</td>\n",
       "      <td>2.0</td>\n",
       "      <td>NaN</td>\n",
       "      <td>NaN</td>\n",
       "      <td>NaN</td>\n",
       "    </tr>\n",
       "    <tr>\n",
       "      <th>98</th>\n",
       "      <td>98</td>\n",
       "      <td>4.0</td>\n",
       "      <td>NaN</td>\n",
       "      <td>NaN</td>\n",
       "      <td>NaN</td>\n",
       "    </tr>\n",
       "    <tr>\n",
       "      <th>99</th>\n",
       "      <td>99</td>\n",
       "      <td>4.0</td>\n",
       "      <td>NaN</td>\n",
       "      <td>NaN</td>\n",
       "      <td>NaN</td>\n",
       "    </tr>\n",
       "    <tr>\n",
       "      <th>100</th>\n",
       "      <td>100</td>\n",
       "      <td>NaN</td>\n",
       "      <td>NaN</td>\n",
       "      <td>NaN</td>\n",
       "      <td>NaN</td>\n",
       "    </tr>\n",
       "  </tbody>\n",
       "</table>\n",
       "<p>101 rows × 5 columns</p>\n",
       "</div>"
      ],
      "text/plain": [
       "    Pidgey Sequence  Base  Unnamed: 2 Unnamed: 3  Unnamed: 4\n",
       "0          Position   1.0         NaN        NaN         NaN\n",
       "1                 1   1.0         NaN       1= A         NaN\n",
       "2                 2   2.0         NaN       2= T         NaN\n",
       "3                 3   4.0         NaN       3= G         NaN\n",
       "4                 4   2.0         NaN       4= C         NaN\n",
       "..              ...   ...         ...        ...         ...\n",
       "96               96   2.0         NaN        NaN         1.0\n",
       "97               97   2.0         NaN        NaN         NaN\n",
       "98               98   4.0         NaN        NaN         NaN\n",
       "99               99   4.0         NaN        NaN         NaN\n",
       "100             100   NaN         NaN        NaN         NaN\n",
       "\n",
       "[101 rows x 5 columns]"
      ]
     },
     "execution_count": 52,
     "metadata": {},
     "output_type": "execute_result"
    }
   ],
   "source": [
    "import numpy as np\n",
    "import pandas as pd\n",
    "df=pd.read_csv('Phylogenic data - Species.csv',delimiter=',')\n",
    "pidf=pd.df=pd.read_csv('Phylogeny.xlsx - Sheet2.csv',delimiter=',')\n",
    "\n",
    "pidf"
   ]
  },
  {
   "cell_type": "code",
   "execution_count": 14,
   "id": "56afb9d2",
   "metadata": {},
   "outputs": [],
   "source": [
    "def differences(a,b):\n",
    "    diff=0\n",
    "    for i in range(100):\n",
    "        if a[i] ==b[i]:\n",
    "          diff+=1  \n",
    "    return 100-diff"
   ]
  },
  {
   "cell_type": "code",
   "execution_count": 55,
   "id": "d6ef5bb4",
   "metadata": {},
   "outputs": [
    {
     "data": {
      "text/plain": [
       "0      1.0\n",
       "1      1.0\n",
       "2      2.0\n",
       "3      4.0\n",
       "4      2.0\n",
       "      ... \n",
       "96     2.0\n",
       "97     2.0\n",
       "98     4.0\n",
       "99     4.0\n",
       "100    NaN\n",
       "Name: Base, Length: 101, dtype: float64"
      ]
     },
     "execution_count": 55,
     "metadata": {},
     "output_type": "execute_result"
    }
   ],
   "source": [
    "Pidgey=pidf['Base']\n",
    "Pidgey"
   ]
  },
  {
   "cell_type": "code",
   "execution_count": 65,
   "id": "0f5a2c5f",
   "metadata": {},
   "outputs": [
    {
     "data": {
      "text/plain": [
       "17"
      ]
     },
     "execution_count": 65,
     "metadata": {},
     "output_type": "execute_result"
    }
   ],
   "source": [
    "Glaceon=df['Glaceon']\n",
    "Vaporeon=df['Vaporeon']\n",
    "Jolteon=df['Jolteon']\n",
    "Espeon=df['Espeon']\n",
    "Umbreon=df['Umbreon']\n",
    "Flareon=df['Flareon']\n",
    "Sylveon=df['Sylveon']\n",
    "Leafeon=df['Leafeon']\n",
    "differences(Umbreon,Espeon)"
   ]
  }
 ],
 "metadata": {
  "kernelspec": {
   "display_name": "Python 3 (ipykernel)",
   "language": "python",
   "name": "python3"
  },
  "language_info": {
   "codemirror_mode": {
    "name": "ipython",
    "version": 3
   },
   "file_extension": ".py",
   "mimetype": "text/x-python",
   "name": "python",
   "nbconvert_exporter": "python",
   "pygments_lexer": "ipython3",
   "version": "3.10.9"
  }
 },
 "nbformat": 4,
 "nbformat_minor": 5
}
