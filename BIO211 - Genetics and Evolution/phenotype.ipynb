{
 "cells": [
  {
   "cell_type": "code",
   "execution_count": 11,
   "id": "6ff8278c",
   "metadata": {},
   "outputs": [],
   "source": [
    "import numpy as np\n",
    "import matplotlib.pyplot as plt\n",
    "import pandas as pd\n",
    "import scienceplots\n",
    "from scipy.optimize import curve_fit\n",
    "plt.style.use(['science','no-latex'])\n",
    "\n",
    "df=pd.read_csv(\"/home/soumadip/Downloads/Expt 1 Data - Data.csv\",delimiter=',')"
   ]
  },
  {
   "cell_type": "code",
   "execution_count": 4,
   "id": "08f26669",
   "metadata": {},
   "outputs": [
    {
     "data": {
      "text/html": [
       "<div>\n",
       "<style scoped>\n",
       "    .dataframe tbody tr th:only-of-type {\n",
       "        vertical-align: middle;\n",
       "    }\n",
       "\n",
       "    .dataframe tbody tr th {\n",
       "        vertical-align: top;\n",
       "    }\n",
       "\n",
       "    .dataframe thead th {\n",
       "        text-align: right;\n",
       "    }\n",
       "</style>\n",
       "<table border=\"1\" class=\"dataframe\">\n",
       "  <thead>\n",
       "    <tr style=\"text-align: right;\">\n",
       "      <th></th>\n",
       "      <th>You are</th>\n",
       "      <th>Your height (in cm)</th>\n",
       "      <th>Your blood group</th>\n",
       "      <th>Your Rh blood type</th>\n",
       "      <th>Height of your mother (in cm)</th>\n",
       "      <th>Blood group of your mother</th>\n",
       "      <th>Rh blood type of your mother</th>\n",
       "      <th>Height of your father (in cm)</th>\n",
       "      <th>Blood group of your father</th>\n",
       "      <th>Rh blood type of your father</th>\n",
       "      <th>...</th>\n",
       "      <th>Blood group of your sibling 2</th>\n",
       "      <th>Rh blood type of your sibling 2</th>\n",
       "      <th>Your sibling 3 is</th>\n",
       "      <th>Height of sibling 3 (in cm)</th>\n",
       "      <th>Blood group of your sibling 3</th>\n",
       "      <th>Rh blood type of your sibling 3</th>\n",
       "      <th>Your sibling 4 is</th>\n",
       "      <th>Height of sibling 4 (in cm)</th>\n",
       "      <th>Blood group of your sibling 4</th>\n",
       "      <th>Rh blood type of your sibling 4</th>\n",
       "    </tr>\n",
       "  </thead>\n",
       "  <tbody>\n",
       "    <tr>\n",
       "      <th>0</th>\n",
       "      <td>Female</td>\n",
       "      <td>145.0</td>\n",
       "      <td>O</td>\n",
       "      <td>Rh positive</td>\n",
       "      <td>150.0</td>\n",
       "      <td>O</td>\n",
       "      <td>Rh positive</td>\n",
       "      <td>165</td>\n",
       "      <td>B</td>\n",
       "      <td>Rh positive</td>\n",
       "      <td>...</td>\n",
       "      <td>B</td>\n",
       "      <td>Rh positive</td>\n",
       "      <td>NaN</td>\n",
       "      <td>NaN</td>\n",
       "      <td>NaN</td>\n",
       "      <td>NaN</td>\n",
       "      <td>NaN</td>\n",
       "      <td>NaN</td>\n",
       "      <td>NaN</td>\n",
       "      <td>NaN</td>\n",
       "    </tr>\n",
       "    <tr>\n",
       "      <th>1</th>\n",
       "      <td>Female</td>\n",
       "      <td>156.0</td>\n",
       "      <td>B</td>\n",
       "      <td>Rh negative</td>\n",
       "      <td>162.0</td>\n",
       "      <td>O</td>\n",
       "      <td>Rh positive</td>\n",
       "      <td>172</td>\n",
       "      <td>AB</td>\n",
       "      <td>Rh positive</td>\n",
       "      <td>...</td>\n",
       "      <td>O</td>\n",
       "      <td>Rh positive</td>\n",
       "      <td>Female</td>\n",
       "      <td>NaN</td>\n",
       "      <td>O</td>\n",
       "      <td>Rh positive</td>\n",
       "      <td>NaN</td>\n",
       "      <td>NaN</td>\n",
       "      <td>NaN</td>\n",
       "      <td>NaN</td>\n",
       "    </tr>\n",
       "    <tr>\n",
       "      <th>2</th>\n",
       "      <td>Female</td>\n",
       "      <td>160.0</td>\n",
       "      <td>O</td>\n",
       "      <td>Rh positive</td>\n",
       "      <td>157.0</td>\n",
       "      <td>O</td>\n",
       "      <td>Rh positive</td>\n",
       "      <td>172</td>\n",
       "      <td>A</td>\n",
       "      <td>Rh positive</td>\n",
       "      <td>...</td>\n",
       "      <td>A</td>\n",
       "      <td>Rh positive</td>\n",
       "      <td>NaN</td>\n",
       "      <td>NaN</td>\n",
       "      <td>NaN</td>\n",
       "      <td>NaN</td>\n",
       "      <td>NaN</td>\n",
       "      <td>NaN</td>\n",
       "      <td>NaN</td>\n",
       "      <td>NaN</td>\n",
       "    </tr>\n",
       "    <tr>\n",
       "      <th>3</th>\n",
       "      <td>Female</td>\n",
       "      <td>168.0</td>\n",
       "      <td>B</td>\n",
       "      <td>Rh positive</td>\n",
       "      <td>154.0</td>\n",
       "      <td>B</td>\n",
       "      <td>Rh negative</td>\n",
       "      <td>163</td>\n",
       "      <td>B</td>\n",
       "      <td>Rh negative</td>\n",
       "      <td>...</td>\n",
       "      <td>NaN</td>\n",
       "      <td>NaN</td>\n",
       "      <td>NaN</td>\n",
       "      <td>NaN</td>\n",
       "      <td>NaN</td>\n",
       "      <td>NaN</td>\n",
       "      <td>NaN</td>\n",
       "      <td>NaN</td>\n",
       "      <td>NaN</td>\n",
       "      <td>NaN</td>\n",
       "    </tr>\n",
       "    <tr>\n",
       "      <th>4</th>\n",
       "      <td>Female</td>\n",
       "      <td>163.0</td>\n",
       "      <td>A</td>\n",
       "      <td>Rh positive</td>\n",
       "      <td>158.0</td>\n",
       "      <td>B</td>\n",
       "      <td>Rh positive</td>\n",
       "      <td>162.5</td>\n",
       "      <td>B</td>\n",
       "      <td>Rh positive</td>\n",
       "      <td>...</td>\n",
       "      <td>NaN</td>\n",
       "      <td>NaN</td>\n",
       "      <td>NaN</td>\n",
       "      <td>NaN</td>\n",
       "      <td>NaN</td>\n",
       "      <td>NaN</td>\n",
       "      <td>NaN</td>\n",
       "      <td>NaN</td>\n",
       "      <td>NaN</td>\n",
       "      <td>NaN</td>\n",
       "    </tr>\n",
       "    <tr>\n",
       "      <th>...</th>\n",
       "      <td>...</td>\n",
       "      <td>...</td>\n",
       "      <td>...</td>\n",
       "      <td>...</td>\n",
       "      <td>...</td>\n",
       "      <td>...</td>\n",
       "      <td>...</td>\n",
       "      <td>...</td>\n",
       "      <td>...</td>\n",
       "      <td>...</td>\n",
       "      <td>...</td>\n",
       "      <td>...</td>\n",
       "      <td>...</td>\n",
       "      <td>...</td>\n",
       "      <td>...</td>\n",
       "      <td>...</td>\n",
       "      <td>...</td>\n",
       "      <td>...</td>\n",
       "      <td>...</td>\n",
       "      <td>...</td>\n",
       "      <td>...</td>\n",
       "    </tr>\n",
       "    <tr>\n",
       "      <th>92</th>\n",
       "      <td>Male</td>\n",
       "      <td>179.0</td>\n",
       "      <td>O</td>\n",
       "      <td>Rh positive</td>\n",
       "      <td>165.0</td>\n",
       "      <td>O</td>\n",
       "      <td>Rh positive</td>\n",
       "      <td>180</td>\n",
       "      <td>O</td>\n",
       "      <td>Rh positive</td>\n",
       "      <td>...</td>\n",
       "      <td>NaN</td>\n",
       "      <td>NaN</td>\n",
       "      <td>NaN</td>\n",
       "      <td>NaN</td>\n",
       "      <td>NaN</td>\n",
       "      <td>NaN</td>\n",
       "      <td>NaN</td>\n",
       "      <td>NaN</td>\n",
       "      <td>NaN</td>\n",
       "      <td>NaN</td>\n",
       "    </tr>\n",
       "    <tr>\n",
       "      <th>93</th>\n",
       "      <td>Male</td>\n",
       "      <td>180.0</td>\n",
       "      <td>O</td>\n",
       "      <td>Rh positive</td>\n",
       "      <td>167.0</td>\n",
       "      <td>B</td>\n",
       "      <td>Rh positive</td>\n",
       "      <td>175</td>\n",
       "      <td>B</td>\n",
       "      <td>Rh positive</td>\n",
       "      <td>...</td>\n",
       "      <td>NaN</td>\n",
       "      <td>NaN</td>\n",
       "      <td>NaN</td>\n",
       "      <td>NaN</td>\n",
       "      <td>NaN</td>\n",
       "      <td>NaN</td>\n",
       "      <td>NaN</td>\n",
       "      <td>NaN</td>\n",
       "      <td>NaN</td>\n",
       "      <td>NaN</td>\n",
       "    </tr>\n",
       "    <tr>\n",
       "      <th>94</th>\n",
       "      <td>Male</td>\n",
       "      <td>167.0</td>\n",
       "      <td>O</td>\n",
       "      <td>Rh positive</td>\n",
       "      <td>151.0</td>\n",
       "      <td>O</td>\n",
       "      <td>Rh positive</td>\n",
       "      <td>Deceased</td>\n",
       "      <td>O</td>\n",
       "      <td>Rh positive</td>\n",
       "      <td>...</td>\n",
       "      <td>NaN</td>\n",
       "      <td>NaN</td>\n",
       "      <td>NaN</td>\n",
       "      <td>NaN</td>\n",
       "      <td>NaN</td>\n",
       "      <td>NaN</td>\n",
       "      <td>NaN</td>\n",
       "      <td>NaN</td>\n",
       "      <td>NaN</td>\n",
       "      <td>NaN</td>\n",
       "    </tr>\n",
       "    <tr>\n",
       "      <th>95</th>\n",
       "      <td>Prefer not to say</td>\n",
       "      <td>173.0</td>\n",
       "      <td>O</td>\n",
       "      <td>Rh positive</td>\n",
       "      <td>160.0</td>\n",
       "      <td>AB</td>\n",
       "      <td>Rh positive</td>\n",
       "      <td>170</td>\n",
       "      <td>B</td>\n",
       "      <td>Rh positive</td>\n",
       "      <td>...</td>\n",
       "      <td>NaN</td>\n",
       "      <td>NaN</td>\n",
       "      <td>NaN</td>\n",
       "      <td>NaN</td>\n",
       "      <td>NaN</td>\n",
       "      <td>NaN</td>\n",
       "      <td>NaN</td>\n",
       "      <td>NaN</td>\n",
       "      <td>NaN</td>\n",
       "      <td>NaN</td>\n",
       "    </tr>\n",
       "    <tr>\n",
       "      <th>96</th>\n",
       "      <td>Prefer not to say</td>\n",
       "      <td>182.0</td>\n",
       "      <td>A</td>\n",
       "      <td>Rh positive</td>\n",
       "      <td>160.0</td>\n",
       "      <td>A</td>\n",
       "      <td>Rh positive</td>\n",
       "      <td>162</td>\n",
       "      <td>O</td>\n",
       "      <td>Rh positive</td>\n",
       "      <td>...</td>\n",
       "      <td>NaN</td>\n",
       "      <td>NaN</td>\n",
       "      <td>NaN</td>\n",
       "      <td>NaN</td>\n",
       "      <td>NaN</td>\n",
       "      <td>NaN</td>\n",
       "      <td>NaN</td>\n",
       "      <td>NaN</td>\n",
       "      <td>NaN</td>\n",
       "      <td>NaN</td>\n",
       "    </tr>\n",
       "  </tbody>\n",
       "</table>\n",
       "<p>97 rows × 26 columns</p>\n",
       "</div>"
      ],
      "text/plain": [
       "              You are  Your height (in cm) Your blood group   \n",
       "0              Female                145.0                O  \\\n",
       "1              Female                156.0                B   \n",
       "2              Female                160.0                O   \n",
       "3              Female                168.0                B   \n",
       "4              Female                163.0                A   \n",
       "..                ...                  ...              ...   \n",
       "92               Male                179.0                O   \n",
       "93               Male                180.0                O   \n",
       "94               Male                167.0                O   \n",
       "95  Prefer not to say                173.0                O   \n",
       "96  Prefer not to say                182.0                A   \n",
       "\n",
       "   Your Rh blood type  Height of your mother (in cm)   \n",
       "0         Rh positive                          150.0  \\\n",
       "1         Rh negative                          162.0   \n",
       "2         Rh positive                          157.0   \n",
       "3         Rh positive                          154.0   \n",
       "4         Rh positive                          158.0   \n",
       "..                ...                            ...   \n",
       "92        Rh positive                          165.0   \n",
       "93        Rh positive                          167.0   \n",
       "94        Rh positive                          151.0   \n",
       "95        Rh positive                          160.0   \n",
       "96        Rh positive                          160.0   \n",
       "\n",
       "   Blood group of your mother Rh blood type of your mother   \n",
       "0                           O                  Rh positive  \\\n",
       "1                           O                  Rh positive   \n",
       "2                           O                  Rh positive   \n",
       "3                           B                  Rh negative   \n",
       "4                           B                  Rh positive   \n",
       "..                        ...                          ...   \n",
       "92                          O                  Rh positive   \n",
       "93                          B                  Rh positive   \n",
       "94                          O                  Rh positive   \n",
       "95                         AB                  Rh positive   \n",
       "96                          A                  Rh positive   \n",
       "\n",
       "   Height of your father (in cm) Blood group of your father   \n",
       "0                            165                          B  \\\n",
       "1                            172                         AB   \n",
       "2                            172                          A   \n",
       "3                            163                          B   \n",
       "4                          162.5                          B   \n",
       "..                           ...                        ...   \n",
       "92                           180                          O   \n",
       "93                           175                          B   \n",
       "94                      Deceased                          O   \n",
       "95                           170                          B   \n",
       "96                           162                          O   \n",
       "\n",
       "   Rh blood type of your father  ... Blood group of your sibling 2   \n",
       "0                   Rh positive  ...                             B  \\\n",
       "1                   Rh positive  ...                             O   \n",
       "2                   Rh positive  ...                             A   \n",
       "3                   Rh negative  ...                           NaN   \n",
       "4                   Rh positive  ...                           NaN   \n",
       "..                          ...  ...                           ...   \n",
       "92                  Rh positive  ...                           NaN   \n",
       "93                  Rh positive  ...                           NaN   \n",
       "94                  Rh positive  ...                           NaN   \n",
       "95                  Rh positive  ...                           NaN   \n",
       "96                  Rh positive  ...                           NaN   \n",
       "\n",
       "    Rh blood type of your sibling 2 Your sibling 3 is   \n",
       "0                       Rh positive               NaN  \\\n",
       "1                       Rh positive            Female   \n",
       "2                       Rh positive               NaN   \n",
       "3                               NaN               NaN   \n",
       "4                               NaN               NaN   \n",
       "..                              ...               ...   \n",
       "92                              NaN               NaN   \n",
       "93                              NaN               NaN   \n",
       "94                              NaN               NaN   \n",
       "95                              NaN               NaN   \n",
       "96                              NaN               NaN   \n",
       "\n",
       "   Height of sibling 3 (in cm) Blood group of your sibling 3   \n",
       "0                          NaN                           NaN  \\\n",
       "1                          NaN                             O   \n",
       "2                          NaN                           NaN   \n",
       "3                          NaN                           NaN   \n",
       "4                          NaN                           NaN   \n",
       "..                         ...                           ...   \n",
       "92                         NaN                           NaN   \n",
       "93                         NaN                           NaN   \n",
       "94                         NaN                           NaN   \n",
       "95                         NaN                           NaN   \n",
       "96                         NaN                           NaN   \n",
       "\n",
       "    Rh blood type of your sibling 3 Your sibling 4 is   \n",
       "0                               NaN               NaN  \\\n",
       "1                       Rh positive               NaN   \n",
       "2                               NaN               NaN   \n",
       "3                               NaN               NaN   \n",
       "4                               NaN               NaN   \n",
       "..                              ...               ...   \n",
       "92                              NaN               NaN   \n",
       "93                              NaN               NaN   \n",
       "94                              NaN               NaN   \n",
       "95                              NaN               NaN   \n",
       "96                              NaN               NaN   \n",
       "\n",
       "   Height of sibling 4 (in cm) Blood group of your sibling 4   \n",
       "0                          NaN                           NaN  \\\n",
       "1                          NaN                           NaN   \n",
       "2                          NaN                           NaN   \n",
       "3                          NaN                           NaN   \n",
       "4                          NaN                           NaN   \n",
       "..                         ...                           ...   \n",
       "92                         NaN                           NaN   \n",
       "93                         NaN                           NaN   \n",
       "94                         NaN                           NaN   \n",
       "95                         NaN                           NaN   \n",
       "96                         NaN                           NaN   \n",
       "\n",
       "    Rh blood type of your sibling 4  \n",
       "0                               NaN  \n",
       "1                               NaN  \n",
       "2                               NaN  \n",
       "3                               NaN  \n",
       "4                               NaN  \n",
       "..                              ...  \n",
       "92                              NaN  \n",
       "93                              NaN  \n",
       "94                              NaN  \n",
       "95                              NaN  \n",
       "96                              NaN  \n",
       "\n",
       "[97 rows x 26 columns]"
      ]
     },
     "execution_count": 4,
     "metadata": {},
     "output_type": "execute_result"
    }
   ],
   "source": [
    "df"
   ]
  },
  {
   "cell_type": "code",
   "execution_count": 5,
   "id": "669bfe8e",
   "metadata": {},
   "outputs": [],
   "source": [
    "x=df[\"Your height (in cm)\"]"
   ]
  },
  {
   "cell_type": "code",
   "execution_count": 6,
   "id": "1f62344a",
   "metadata": {},
   "outputs": [
    {
     "data": {
      "text/plain": [
       "97"
      ]
     },
     "execution_count": 6,
     "metadata": {},
     "output_type": "execute_result"
    }
   ],
   "source": [
    "x.size"
   ]
  },
  {
   "cell_type": "code",
   "execution_count": 7,
   "id": "57aea216",
   "metadata": {},
   "outputs": [],
   "source": [
    "x[14]\n",
    "\n",
    "height=[]\n",
    "for i in range(97):\n",
    "    if i==14:\n",
    "        continue\n",
    "    else:\n",
    "        height.append(x[i])"
   ]
  },
  {
   "cell_type": "code",
   "execution_count": 30,
   "id": "fb43c7ee",
   "metadata": {},
   "outputs": [
    {
     "data": {
      "text/plain": [
       "Text(0, 0.5, 'No. of Observations')"
      ]
     },
     "execution_count": 30,
     "metadata": {},
     "output_type": "execute_result"
    },
    {
     "data": {
      "image/png": "[encoded data removed]",
      "text/plain": [
       "<Figure size 600x500 with 1 Axes>"
      ]
     },
     "metadata": {},
     "output_type": "display_data"
    }
   ],
   "source": [
    "plt.figure(figsize=(6,5))\n",
    "#plt.hist(height,bins=10)\n",
    "plt.hist(height, bins=np.arange(min(height), max(height)+2, 2),edgecolor='black')\n",
    "plt.xlabel('Height(Combined Data)')\n",
    "plt.ylabel('No. of Observations')"
   ]
  },
  {
   "cell_type": "code",
   "execution_count": 37,
   "id": "260d98ee",
   "metadata": {},
   "outputs": [
    {
     "data": {
      "text/plain": [
       "167.05583333333334"
      ]
     },
     "execution_count": 37,
     "metadata": {},
     "output_type": "execute_result"
    }
   ],
   "source": [
    "np.mean(height)"
   ]
  },
  {
   "cell_type": "code",
   "execution_count": 38,
   "id": "93b2257b",
   "metadata": {},
   "outputs": [
    {
     "data": {
      "text/plain": [
       "83.90647430555558"
      ]
     },
     "execution_count": 38,
     "metadata": {},
     "output_type": "execute_result"
    }
   ],
   "source": [
    "np.std(height)**2"
   ]
  },
  {
   "cell_type": "code",
   "execution_count": 25,
   "id": "30011278",
   "metadata": {},
   "outputs": [],
   "source": [
    "Blood=df['Your blood group']\n",
    "Rh_fac=df['Your Rh blood type']"
   ]
  },
  {
   "cell_type": "code",
   "execution_count": 27,
   "id": "95847cc2",
   "metadata": {},
   "outputs": [
    {
     "data": {
      "text/plain": [
       "0     Rh positive\n",
       "1     Rh negative\n",
       "2     Rh positive\n",
       "3     Rh positive\n",
       "4     Rh positive\n",
       "         ...     \n",
       "92    Rh positive\n",
       "93    Rh positive\n",
       "94    Rh positive\n",
       "95    Rh positive\n",
       "96    Rh positive\n",
       "Name: Your Rh blood type, Length: 97, dtype: object"
      ]
     },
     "execution_count": 27,
     "metadata": {},
     "output_type": "execute_result"
    }
   ],
   "source": [
    "Rh_fac"
   ]
  },
  {
   "cell_type": "code",
   "execution_count": 28,
   "id": "37ac09da",
   "metadata": {},
   "outputs": [],
   "source": [
    "O_pos=0\n",
    "O_neg=0\n",
    "A_pos=0\n",
    "A_neg=0\n",
    "B_pos=0\n",
    "B_neg=0\n",
    "AB_pos=0\n",
    "AB_neg=0\n",
    "for i in range(Blood.size):\n",
    "    if Blood[i]=='O':\n",
    "        if Rh_fac[i]=='Rh positive':\n",
    "            O_pos+=1\n",
    "        else:\n",
    "            O_neg+=1\n",
    "    if Blood[i]=='A':\n",
    "        if Rh_fac[i]=='Rh positive':\n",
    "            A_pos+=1\n",
    "        else:\n",
    "            A_neg+=1\n",
    "    if Blood[i]=='B':\n",
    "        if Rh_fac[i]=='Rh positive':\n",
    "            B_pos+=1\n",
    "        else:\n",
    "            B_neg+=1\n",
    "    if Blood[i]=='AB':\n",
    "        if Rh_fac[i]=='Rh positive':\n",
    "            AB_pos+=1\n",
    "        else:\n",
    "            AB_neg+=1\n",
    "        "
   ]
  },
  {
   "cell_type": "code",
   "execution_count": 29,
   "id": "8733bba8",
   "metadata": {
    "scrolled": false
   },
   "outputs": [
    {
     "data": {
      "text/plain": [
       "Text(0, 0.5, 'No.of Observations')"
      ]
     },
     "execution_count": 29,
     "metadata": {},
     "output_type": "execute_result"
    },
    {
     "data": {
      "image/png": "[encoded data removed]",
      "text/plain": [
       "<Figure size 600x500 with 1 Axes>"
      ]
     },
     "metadata": {},
     "output_type": "display_data"
    }
   ],
   "source": [
    "Blood_grps={'O+':O_pos,'O-':O_neg,'A+':A_pos,'A-':A_neg,'B+':B_pos,'B-':B_neg,'AB+':AB_pos,'AB-':AB_neg}\n",
    "values=list(Blood_grps.values())\n",
    "keyd=list(Blood_grps.keys())\n",
    "\n",
    "plt.figure(figsize=(6,5))\n",
    "\n",
    "plt.bar(keyd,values,color='maroon')\n",
    "plt.xlabel('Blood Groups')\n",
    "plt.ylabel('No.of Observations')"
   ]
  },
  {
   "cell_type": "code",
   "execution_count": 14,
   "id": "1576e766",
   "metadata": {},
   "outputs": [],
   "source": [
    "gender=df['You are']"
   ]
  },
  {
   "cell_type": "code",
   "execution_count": 15,
   "id": "55b606bb",
   "metadata": {},
   "outputs": [],
   "source": [
    "male_height=[]\n",
    "female_height=[]\n",
    "\n",
    "for i in range(len(height)):\n",
    "    if gender[i]=='Female':\n",
    "        female_height.append(height[i])\n",
    "    elif gender[i]=='Male':\n",
    "        male_height.append(height[i])"
   ]
  },
  {
   "cell_type": "code",
   "execution_count": 16,
   "id": "f8e311a6",
   "metadata": {},
   "outputs": [
    {
     "data": {
      "text/plain": [
       "160.03170731707314"
      ]
     },
     "execution_count": 16,
     "metadata": {},
     "output_type": "execute_result"
    }
   ],
   "source": [
    "np.mean(female_height)"
   ]
  },
  {
   "cell_type": "code",
   "execution_count": 33,
   "id": "7d86ed24",
   "metadata": {},
   "outputs": [
    {
     "data": {
      "text/plain": [
       "<matplotlib.legend.Legend at 0x7f626ccef310>"
      ]
     },
     "execution_count": 33,
     "metadata": {},
     "output_type": "execute_result"
    },
    {
     "data": {
      "image/png": "[encoded data removed]",
      "text/plain": [
       "<Figure size 600x500 with 1 Axes>"
      ]
     },
     "metadata": {},
     "output_type": "display_data"
    }
   ],
   "source": [
    "\n",
    "plt.figure(figsize=(6,5))\n",
    "plt.hist(male_height,label='Height(Males)', bins=np.arange(min(male_height), max(male_height)+2, 2),edgecolor='black')\n",
    "plt.legend()"
   ]
  },
  {
   "cell_type": "code",
   "execution_count": 39,
   "id": "ca3dac10",
   "metadata": {},
   "outputs": [
    {
     "data": {
      "text/plain": [
       "172.11222222222221"
      ]
     },
     "execution_count": 39,
     "metadata": {},
     "output_type": "execute_result"
    }
   ],
   "source": [
    "np.mean(male_height)"
   ]
  },
  {
   "cell_type": "code",
   "execution_count": 40,
   "id": "3332a500",
   "metadata": {},
   "outputs": [
    {
     "data": {
      "text/plain": [
       "55.55902839506172"
      ]
     },
     "execution_count": 40,
     "metadata": {},
     "output_type": "execute_result"
    }
   ],
   "source": [
    "np.std(male_height)**2"
   ]
  },
  {
   "cell_type": "code",
   "execution_count": 35,
   "id": "48194114",
   "metadata": {},
   "outputs": [
    {
     "data": {
      "text/plain": [
       "<matplotlib.legend.Legend at 0x7f626cc72d40>"
      ]
     },
     "execution_count": 35,
     "metadata": {},
     "output_type": "execute_result"
    },
    {
     "data": {
      "image/png": "[encoded data removed]",
      "text/plain": [
       "<Figure size 600x500 with 1 Axes>"
      ]
     },
     "metadata": {},
     "output_type": "display_data"
    }
   ],
   "source": [
    "plt.figure(figsize=(6,5))\n",
    "\n",
    "plt.hist(female_height,label='Height(Females)', bins=np.arange(min(female_height), max(female_height)+2, 2),edgecolor='black')\n",
    "plt.legend()"
   ]
  },
  {
   "cell_type": "code",
   "execution_count": 42,
   "id": "d7b8372c",
   "metadata": {},
   "outputs": [
    {
     "data": {
      "text/plain": [
       "160.03170731707314"
      ]
     },
     "execution_count": 42,
     "metadata": {},
     "output_type": "execute_result"
    }
   ],
   "source": [
    "np.mean(female_height)"
   ]
  },
  {
   "cell_type": "code",
   "execution_count": 43,
   "id": "86efb455",
   "metadata": {},
   "outputs": [
    {
     "data": {
      "text/plain": [
       "34.82956049970255"
      ]
     },
     "execution_count": 43,
     "metadata": {},
     "output_type": "execute_result"
    }
   ],
   "source": [
    "np.std(female_height)**2"
   ]
  },
  {
   "cell_type": "code",
   "execution_count": 24,
   "id": "5103d4dd",
   "metadata": {},
   "outputs": [
    {
     "data": {
      "text/plain": [
       "<matplotlib.legend.Legend at 0x7fad52a31660>"
      ]
     },
     "execution_count": 24,
     "metadata": {},
     "output_type": "execute_result"
    },
    {
     "data": {
      "image/png": "[encoded data removed]",
      "text/plain": [
       "<Figure size 900x400 with 1 Axes>"
      ]
     },
     "metadata": {},
     "output_type": "display_data"
    }
   ],
   "source": [
    "df=pd.read_csv('heredity.csv',delimiter=',')\n",
    "x=df['Mid Parent Value']\n",
    "y=df['\\tAverage Offspring Value']\n",
    "plt.figure(figsize=(9,4))\n",
    "def f(x,a,b):\n",
    "    return a*x+b\n",
    "\n",
    "popt,pcov=curve_fit(f,x,y)\n",
    "X=np.arange(10,28,0.1)\n",
    "plt.plot(x,y,'ko')\n",
    "plt.plot(X,f(X,*popt),'r--',label='fit : $0.550x+8.147$')\n",
    "\n",
    "plt.xlabel('Mid Parent Value')\n",
    "plt.ylabel('Average Offspring Value')\n",
    "plt.legend()"
   ]
  },
  {
   "cell_type": "code",
   "execution_count": 17,
   "id": "32d454d5",
   "metadata": {},
   "outputs": [
    {
     "data": {
      "text/plain": [
       "array([0.55037837, 8.14732287])"
      ]
     },
     "execution_count": 17,
     "metadata": {},
     "output_type": "execute_result"
    }
   ],
   "source": [
    "popt"
   ]
  },
  {
   "cell_type": "code",
   "execution_count": 18,
   "id": "711cde0d",
   "metadata": {},
   "outputs": [
    {
     "data": {
      "text/plain": [
       "array([[ 0.0026954 , -0.05043929],\n",
       "       [-0.05043929,  0.96754684]])"
      ]
     },
     "execution_count": 18,
     "metadata": {},
     "output_type": "execute_result"
    }
   ],
   "source": [
    "pcov"
   ]
  }
 ],
 "metadata": {
  "kernelspec": {
   "display_name": "Python 3 (ipykernel)",
   "language": "python",
   "name": "python3"
  },
  "language_info": {
   "codemirror_mode": {
    "name": "ipython",
    "version": 3
   },
   "file_extension": ".py",
   "mimetype": "text/x-python",
   "name": "python",
   "nbconvert_exporter": "python",
   "pygments_lexer": "ipython3",
   "version": "3.10.9"
  }
 },
 "nbformat": 4,
 "nbformat_minor": 5
}
