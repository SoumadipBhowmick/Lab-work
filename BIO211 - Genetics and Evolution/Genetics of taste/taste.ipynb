{
 "cells": [
  {
   "cell_type": "code",
   "execution_count": 5,
   "id": "d64cd71d",
   "metadata": {},
   "outputs": [],
   "source": [
    "import pandas as pd\n",
    "import matplotlib.pyplot as plt\n",
    "import numpy as np\n",
    "import scienceplots\n",
    "plt.style.use(['science','no-latex'])"
   ]
  },
  {
   "cell_type": "code",
   "execution_count": 2,
   "id": "5b17dc84",
   "metadata": {},
   "outputs": [
    {
     "data": {
      "text/html": [
       "<div>\n",
       "<style scoped>\n",
       "    .dataframe tbody tr th:only-of-type {\n",
       "        vertical-align: middle;\n",
       "    }\n",
       "\n",
       "    .dataframe tbody tr th {\n",
       "        vertical-align: top;\n",
       "    }\n",
       "\n",
       "    .dataframe thead th {\n",
       "        text-align: right;\n",
       "    }\n",
       "</style>\n",
       "<table border=\"1\" class=\"dataframe\">\n",
       "  <thead>\n",
       "    <tr style=\"text-align: right;\">\n",
       "      <th></th>\n",
       "      <th>Your are</th>\n",
       "      <th>Your response to vegetable juice</th>\n",
       "      <th>Your response to PROP</th>\n",
       "      <th>Density of papillae in area 1</th>\n",
       "      <th>Density of papillae in area 2</th>\n",
       "      <th>Density of papillae in area 3</th>\n",
       "      <th>Mean density</th>\n",
       "    </tr>\n",
       "  </thead>\n",
       "  <tbody>\n",
       "    <tr>\n",
       "      <th>0</th>\n",
       "      <td>Male</td>\n",
       "      <td>Neutral to the taste</td>\n",
       "      <td>No bitter taste/ No taste</td>\n",
       "      <td>12.0</td>\n",
       "      <td>6</td>\n",
       "      <td>10</td>\n",
       "      <td>9.333333</td>\n",
       "    </tr>\n",
       "    <tr>\n",
       "      <th>1</th>\n",
       "      <td>Male</td>\n",
       "      <td>Neutral to the taste</td>\n",
       "      <td>Bitter taste</td>\n",
       "      <td>6.0</td>\n",
       "      <td>4</td>\n",
       "      <td>4</td>\n",
       "      <td>4.666667</td>\n",
       "    </tr>\n",
       "    <tr>\n",
       "      <th>2</th>\n",
       "      <td>Male</td>\n",
       "      <td>Neutral to the taste</td>\n",
       "      <td>Bitter taste</td>\n",
       "      <td>51.0</td>\n",
       "      <td>21</td>\n",
       "      <td>15</td>\n",
       "      <td>29.000000</td>\n",
       "    </tr>\n",
       "    <tr>\n",
       "      <th>3</th>\n",
       "      <td>Male</td>\n",
       "      <td>Neutral to the taste</td>\n",
       "      <td>No bitter taste/ No taste</td>\n",
       "      <td>38.0</td>\n",
       "      <td>13</td>\n",
       "      <td>10</td>\n",
       "      <td>20.333333</td>\n",
       "    </tr>\n",
       "    <tr>\n",
       "      <th>4</th>\n",
       "      <td>Female</td>\n",
       "      <td>Dislike the taste</td>\n",
       "      <td>Strongly Bitter taste</td>\n",
       "      <td>25.0</td>\n",
       "      <td>11</td>\n",
       "      <td>11</td>\n",
       "      <td>15.666667</td>\n",
       "    </tr>\n",
       "    <tr>\n",
       "      <th>...</th>\n",
       "      <td>...</td>\n",
       "      <td>...</td>\n",
       "      <td>...</td>\n",
       "      <td>...</td>\n",
       "      <td>...</td>\n",
       "      <td>...</td>\n",
       "      <td>...</td>\n",
       "    </tr>\n",
       "    <tr>\n",
       "      <th>221</th>\n",
       "      <td>Female</td>\n",
       "      <td>Neutral to the taste</td>\n",
       "      <td>Bitter taste</td>\n",
       "      <td>21.0</td>\n",
       "      <td>19</td>\n",
       "      <td>20</td>\n",
       "      <td>20.000000</td>\n",
       "    </tr>\n",
       "    <tr>\n",
       "      <th>222</th>\n",
       "      <td>Male</td>\n",
       "      <td>Neutral to the taste</td>\n",
       "      <td>No bitter taste/ No taste</td>\n",
       "      <td>20.0</td>\n",
       "      <td>26</td>\n",
       "      <td>32</td>\n",
       "      <td>26.000000</td>\n",
       "    </tr>\n",
       "    <tr>\n",
       "      <th>223</th>\n",
       "      <td>Male</td>\n",
       "      <td>Dislike the taste</td>\n",
       "      <td>No bitter taste/ No taste</td>\n",
       "      <td>19.0</td>\n",
       "      <td>10</td>\n",
       "      <td>22</td>\n",
       "      <td>17.000000</td>\n",
       "    </tr>\n",
       "    <tr>\n",
       "      <th>224</th>\n",
       "      <td>Male</td>\n",
       "      <td>Dislike the taste</td>\n",
       "      <td>Bitter taste</td>\n",
       "      <td>52.0</td>\n",
       "      <td>55</td>\n",
       "      <td>57</td>\n",
       "      <td>54.666667</td>\n",
       "    </tr>\n",
       "    <tr>\n",
       "      <th>225</th>\n",
       "      <td>Male</td>\n",
       "      <td>Dislike the taste</td>\n",
       "      <td>No bitter taste/ No taste</td>\n",
       "      <td>14.0</td>\n",
       "      <td>20</td>\n",
       "      <td>21</td>\n",
       "      <td>18.333333</td>\n",
       "    </tr>\n",
       "  </tbody>\n",
       "</table>\n",
       "<p>226 rows × 7 columns</p>\n",
       "</div>"
      ],
      "text/plain": [
       "    Your are Your response to vegetable juice      Your response to PROP   \n",
       "0       Male             Neutral to the taste  No bitter taste/ No taste  \\\n",
       "1       Male             Neutral to the taste               Bitter taste   \n",
       "2       Male             Neutral to the taste               Bitter taste   \n",
       "3       Male             Neutral to the taste  No bitter taste/ No taste   \n",
       "4     Female                Dislike the taste      Strongly Bitter taste   \n",
       "..       ...                              ...                        ...   \n",
       "221   Female             Neutral to the taste               Bitter taste   \n",
       "222     Male             Neutral to the taste  No bitter taste/ No taste   \n",
       "223     Male                Dislike the taste  No bitter taste/ No taste   \n",
       "224     Male                Dislike the taste               Bitter taste   \n",
       "225     Male                Dislike the taste  No bitter taste/ No taste   \n",
       "\n",
       "     Density of papillae in area 1  Density of papillae in area 2   \n",
       "0                             12.0                              6  \\\n",
       "1                              6.0                              4   \n",
       "2                             51.0                             21   \n",
       "3                             38.0                             13   \n",
       "4                             25.0                             11   \n",
       "..                             ...                            ...   \n",
       "221                           21.0                             19   \n",
       "222                           20.0                             26   \n",
       "223                           19.0                             10   \n",
       "224                           52.0                             55   \n",
       "225                           14.0                             20   \n",
       "\n",
       "     Density of papillae in area 3  Mean density  \n",
       "0                               10      9.333333  \n",
       "1                                4      4.666667  \n",
       "2                               15     29.000000  \n",
       "3                               10     20.333333  \n",
       "4                               11     15.666667  \n",
       "..                             ...           ...  \n",
       "221                             20     20.000000  \n",
       "222                             32     26.000000  \n",
       "223                             22     17.000000  \n",
       "224                             57     54.666667  \n",
       "225                             21     18.333333  \n",
       "\n",
       "[226 rows x 7 columns]"
      ]
     },
     "execution_count": 2,
     "metadata": {},
     "output_type": "execute_result"
    }
   ],
   "source": [
    "df=pd.read_csv('taste_sheet.csv',delimiter=',')\n",
    "df"
   ]
  },
  {
   "cell_type": "code",
   "execution_count": 8,
   "id": "d9c124ef",
   "metadata": {},
   "outputs": [
    {
     "data": {
      "text/plain": [
       "(array([74., 88., 34., 15., 10.,  1.,  0.,  1.,  0.,  3.]),\n",
       " array([ 3. ,  8.5, 14. , 19.5, 25. , 30.5, 36. , 41.5, 47. , 52.5, 58. ]),\n",
       " [<matplotlib.patches.Polygon at 0x7f0a1f6d08b0>])"
      ]
     },
     "execution_count": 8,
     "metadata": {},
     "output_type": "execute_result"
    },
    {
     "data": {
      "image/png": "[encoded data removed]",
      "text/plain": [
       "<Figure size 350x262.5 with 1 Axes>"
      ]
     },
     "metadata": {},
     "output_type": "display_data"
    }
   ],
   "source": [
    "dense_1=df['Mean density']\n",
    "\n",
    "plt.hist(dense_1,histtype='step')"
   ]
  },
  {
   "cell_type": "code",
   "execution_count": 30,
   "id": "52528f02",
   "metadata": {},
   "outputs": [],
   "source": [
    "response=df['Your response to PROP']\n",
    "no_taste,bitt_taste,stro_taste=[0,0,0]\n",
    "\n",
    "def sort_out(no_taste,bitt_taste,stro_taste):\n",
    "    if response[i]=='No bitter taste/ No taste':\n",
    "        no_taste+=1\n",
    "    elif response[i]=='Bitter taste':\n",
    "        bitt_taste+=1\n",
    "    else:\n",
    "        stro_taste+=1\n",
    "    return np.array([no_taste,bitt_taste,stro_taste])\n",
    "\n",
    "for i in range(response.size):\n",
    "    sort_out(no_taste,bitt_taste,stro_taste)"
   ]
  },
  {
   "cell_type": "code",
   "execution_count": 17,
   "id": "ed9e926c",
   "metadata": {},
   "outputs": [
    {
     "name": "stdout",
     "output_type": "stream",
     "text": [
      "Super-tasters= 48 \n",
      "Tasters= 102 \n",
      "Non-tasters= 76\n"
     ]
    }
   ],
   "source": [
    "print('Super-tasters=',stro_taste,'\\nTasters=',bitt_taste,'\\nNon-tasters=',no_taste)"
   ]
  },
  {
   "cell_type": "code",
   "execution_count": 36,
   "id": "49f53d29",
   "metadata": {},
   "outputs": [
    {
     "data": {
      "text/plain": [
       "(141, 81)"
      ]
     },
     "execution_count": 36,
     "metadata": {},
     "output_type": "execute_result"
    }
   ],
   "source": [
    "m_no,m_bitt,m_stro,f_no,f_bitt,f_stro=[0,0,0,0,0,0]\n",
    "res_m=np.array([0,0,0])\n",
    "res_f=np.array([0,0,0])\n",
    "m,f=[0,0]\n",
    "sex=df['Your are']\n",
    "for i in range(response.size):\n",
    "    if sex[i]=='Male':\n",
    "        m+=1\n",
    "        res_m=res_m+sort_out(m_no,m_bitt,m_stro)\n",
    "    if sex[i]=='Female':\n",
    "        f+=1\n",
    "        res_f=res_f+sort_out(f_no,f_bitt,f_stro)\n",
    "\n",
    "res_m,res_f\n"
   ]
  },
  {
   "cell_type": "code",
   "execution_count": 40,
   "id": "f3305483",
   "metadata": {},
   "outputs": [
    {
     "ename": "SyntaxError",
     "evalue": "invalid syntax. Maybe you meant '==' or ':=' instead of '='? (3598522806.py, line 5)",
     "output_type": "error",
     "traceback": [
      "\u001b[0;36m  Cell \u001b[0;32mIn[40], line 5\u001b[0;36m\u001b[0m\n\u001b[0;31m    plt.bar{X_axis-0.2,women, label = 'Female'}\u001b[0m\n\u001b[0m                              ^\u001b[0m\n\u001b[0;31mSyntaxError\u001b[0m\u001b[0;31m:\u001b[0m invalid syntax. Maybe you meant '==' or ':=' instead of '='?\n"
     ]
    }
   ],
   "source": [
    "X=[Non-Tasters,Tasters,Super-Tasters]\n",
    "women=res_f\n",
    "men=res_m\n",
    "X_axis=len(X)\n",
    "plt.bar{X_axis-0.2,women, label = 'Female'}\n",
    "plt.bar{X_axis+0.2,men, label = 'Male'}"
   ]
  }
 ],
 "metadata": {
  "kernelspec": {
   "display_name": "Python 3 (ipykernel)",
   "language": "python",
   "name": "python3"
  },
  "language_info": {
   "codemirror_mode": {
    "name": "ipython",
    "version": 3
   },
   "file_extension": ".py",
   "mimetype": "text/x-python",
   "name": "python",
   "nbconvert_exporter": "python",
   "pygments_lexer": "ipython3",
   "version": "3.10.9"
  }
 },
 "nbformat": 4,
 "nbformat_minor": 5
}
