{
 "cells": [
  {
   "cell_type": "code",
   "execution_count": 39,
   "id": "6ff8278c",
   "metadata": {},
   "outputs": [],
   "source": [
    "import numpy as np\n",
    "import matplotlib.pyplot as plt\n",
    "import pandas as pd\n",
    "import scienceplots\n",
    "\n",
    "plt.style.use(['science','no-latex'])\n",
    "\n",
    "df=pd.read_csv(\"/home/soumadip/Downloads/Expt 1 Data - Data.csv\",delimiter=',')"
   ]
  },
  {
   "cell_type": "code",
   "execution_count": 6,
   "id": "08f26669",
   "metadata": {},
   "outputs": [
    {
     "data": {
      "text/html": [
       "<div>\n",
       "<style scoped>\n",
       "    .dataframe tbody tr th:only-of-type {\n",
       "        vertical-align: middle;\n",
       "    }\n",
       "\n",
       "    .dataframe tbody tr th {\n",
       "        vertical-align: top;\n",
       "    }\n",
       "\n",
       "    .dataframe thead th {\n",
       "        text-align: right;\n",
       "    }\n",
       "</style>\n",
       "<table border=\"1\" class=\"dataframe\">\n",
       "  <thead>\n",
       "    <tr style=\"text-align: right;\">\n",
       "      <th></th>\n",
       "      <th>You are</th>\n",
       "      <th>Your height (in cm)</th>\n",
       "      <th>Your blood group</th>\n",
       "      <th>Your Rh blood type</th>\n",
       "      <th>Height of your mother (in cm)</th>\n",
       "      <th>Blood group of your mother</th>\n",
       "      <th>Rh blood type of your mother</th>\n",
       "      <th>Height of your father (in cm)</th>\n",
       "      <th>Blood group of your father</th>\n",
       "      <th>Rh blood type of your father</th>\n",
       "      <th>...</th>\n",
       "      <th>Blood group of your sibling 2</th>\n",
       "      <th>Rh blood type of your sibling 2</th>\n",
       "      <th>Your sibling 3 is</th>\n",
       "      <th>Height of sibling 3 (in cm)</th>\n",
       "      <th>Blood group of your sibling 3</th>\n",
       "      <th>Rh blood type of your sibling 3</th>\n",
       "      <th>Your sibling 4 is</th>\n",
       "      <th>Height of sibling 4 (in cm)</th>\n",
       "      <th>Blood group of your sibling 4</th>\n",
       "      <th>Rh blood type of your sibling 4</th>\n",
       "    </tr>\n",
       "  </thead>\n",
       "  <tbody>\n",
       "    <tr>\n",
       "      <th>0</th>\n",
       "      <td>Female</td>\n",
       "      <td>145.0</td>\n",
       "      <td>O</td>\n",
       "      <td>Rh positive</td>\n",
       "      <td>150.0</td>\n",
       "      <td>O</td>\n",
       "      <td>Rh positive</td>\n",
       "      <td>165</td>\n",
       "      <td>B</td>\n",
       "      <td>Rh positive</td>\n",
       "      <td>...</td>\n",
       "      <td>B</td>\n",
       "      <td>Rh positive</td>\n",
       "      <td>NaN</td>\n",
       "      <td>NaN</td>\n",
       "      <td>NaN</td>\n",
       "      <td>NaN</td>\n",
       "      <td>NaN</td>\n",
       "      <td>NaN</td>\n",
       "      <td>NaN</td>\n",
       "      <td>NaN</td>\n",
       "    </tr>\n",
       "    <tr>\n",
       "      <th>1</th>\n",
       "      <td>Female</td>\n",
       "      <td>156.0</td>\n",
       "      <td>B</td>\n",
       "      <td>Rh negative</td>\n",
       "      <td>162.0</td>\n",
       "      <td>O</td>\n",
       "      <td>Rh positive</td>\n",
       "      <td>172</td>\n",
       "      <td>AB</td>\n",
       "      <td>Rh positive</td>\n",
       "      <td>...</td>\n",
       "      <td>O</td>\n",
       "      <td>Rh positive</td>\n",
       "      <td>Female</td>\n",
       "      <td>NaN</td>\n",
       "      <td>O</td>\n",
       "      <td>Rh positive</td>\n",
       "      <td>NaN</td>\n",
       "      <td>NaN</td>\n",
       "      <td>NaN</td>\n",
       "      <td>NaN</td>\n",
       "    </tr>\n",
       "    <tr>\n",
       "      <th>2</th>\n",
       "      <td>Female</td>\n",
       "      <td>160.0</td>\n",
       "      <td>O</td>\n",
       "      <td>Rh positive</td>\n",
       "      <td>157.0</td>\n",
       "      <td>O</td>\n",
       "      <td>Rh positive</td>\n",
       "      <td>172</td>\n",
       "      <td>A</td>\n",
       "      <td>Rh positive</td>\n",
       "      <td>...</td>\n",
       "      <td>A</td>\n",
       "      <td>Rh positive</td>\n",
       "      <td>NaN</td>\n",
       "      <td>NaN</td>\n",
       "      <td>NaN</td>\n",
       "      <td>NaN</td>\n",
       "      <td>NaN</td>\n",
       "      <td>NaN</td>\n",
       "      <td>NaN</td>\n",
       "      <td>NaN</td>\n",
       "    </tr>\n",
       "    <tr>\n",
       "      <th>3</th>\n",
       "      <td>Female</td>\n",
       "      <td>168.0</td>\n",
       "      <td>B</td>\n",
       "      <td>Rh positive</td>\n",
       "      <td>154.0</td>\n",
       "      <td>B</td>\n",
       "      <td>Rh negative</td>\n",
       "      <td>163</td>\n",
       "      <td>B</td>\n",
       "      <td>Rh negative</td>\n",
       "      <td>...</td>\n",
       "      <td>NaN</td>\n",
       "      <td>NaN</td>\n",
       "      <td>NaN</td>\n",
       "      <td>NaN</td>\n",
       "      <td>NaN</td>\n",
       "      <td>NaN</td>\n",
       "      <td>NaN</td>\n",
       "      <td>NaN</td>\n",
       "      <td>NaN</td>\n",
       "      <td>NaN</td>\n",
       "    </tr>\n",
       "    <tr>\n",
       "      <th>4</th>\n",
       "      <td>Female</td>\n",
       "      <td>163.0</td>\n",
       "      <td>A</td>\n",
       "      <td>Rh positive</td>\n",
       "      <td>158.0</td>\n",
       "      <td>B</td>\n",
       "      <td>Rh positive</td>\n",
       "      <td>162.5</td>\n",
       "      <td>B</td>\n",
       "      <td>Rh positive</td>\n",
       "      <td>...</td>\n",
       "      <td>NaN</td>\n",
       "      <td>NaN</td>\n",
       "      <td>NaN</td>\n",
       "      <td>NaN</td>\n",
       "      <td>NaN</td>\n",
       "      <td>NaN</td>\n",
       "      <td>NaN</td>\n",
       "      <td>NaN</td>\n",
       "      <td>NaN</td>\n",
       "      <td>NaN</td>\n",
       "    </tr>\n",
       "    <tr>\n",
       "      <th>...</th>\n",
       "      <td>...</td>\n",
       "      <td>...</td>\n",
       "      <td>...</td>\n",
       "      <td>...</td>\n",
       "      <td>...</td>\n",
       "      <td>...</td>\n",
       "      <td>...</td>\n",
       "      <td>...</td>\n",
       "      <td>...</td>\n",
       "      <td>...</td>\n",
       "      <td>...</td>\n",
       "      <td>...</td>\n",
       "      <td>...</td>\n",
       "      <td>...</td>\n",
       "      <td>...</td>\n",
       "      <td>...</td>\n",
       "      <td>...</td>\n",
       "      <td>...</td>\n",
       "      <td>...</td>\n",
       "      <td>...</td>\n",
       "      <td>...</td>\n",
       "    </tr>\n",
       "    <tr>\n",
       "      <th>92</th>\n",
       "      <td>Male</td>\n",
       "      <td>179.0</td>\n",
       "      <td>O</td>\n",
       "      <td>Rh positive</td>\n",
       "      <td>165.0</td>\n",
       "      <td>O</td>\n",
       "      <td>Rh positive</td>\n",
       "      <td>180</td>\n",
       "      <td>O</td>\n",
       "      <td>Rh positive</td>\n",
       "      <td>...</td>\n",
       "      <td>NaN</td>\n",
       "      <td>NaN</td>\n",
       "      <td>NaN</td>\n",
       "      <td>NaN</td>\n",
       "      <td>NaN</td>\n",
       "      <td>NaN</td>\n",
       "      <td>NaN</td>\n",
       "      <td>NaN</td>\n",
       "      <td>NaN</td>\n",
       "      <td>NaN</td>\n",
       "    </tr>\n",
       "    <tr>\n",
       "      <th>93</th>\n",
       "      <td>Male</td>\n",
       "      <td>180.0</td>\n",
       "      <td>O</td>\n",
       "      <td>Rh positive</td>\n",
       "      <td>167.0</td>\n",
       "      <td>B</td>\n",
       "      <td>Rh positive</td>\n",
       "      <td>175</td>\n",
       "      <td>B</td>\n",
       "      <td>Rh positive</td>\n",
       "      <td>...</td>\n",
       "      <td>NaN</td>\n",
       "      <td>NaN</td>\n",
       "      <td>NaN</td>\n",
       "      <td>NaN</td>\n",
       "      <td>NaN</td>\n",
       "      <td>NaN</td>\n",
       "      <td>NaN</td>\n",
       "      <td>NaN</td>\n",
       "      <td>NaN</td>\n",
       "      <td>NaN</td>\n",
       "    </tr>\n",
       "    <tr>\n",
       "      <th>94</th>\n",
       "      <td>Male</td>\n",
       "      <td>167.0</td>\n",
       "      <td>O</td>\n",
       "      <td>Rh positive</td>\n",
       "      <td>151.0</td>\n",
       "      <td>O</td>\n",
       "      <td>Rh positive</td>\n",
       "      <td>Deceased</td>\n",
       "      <td>O</td>\n",
       "      <td>Rh positive</td>\n",
       "      <td>...</td>\n",
       "      <td>NaN</td>\n",
       "      <td>NaN</td>\n",
       "      <td>NaN</td>\n",
       "      <td>NaN</td>\n",
       "      <td>NaN</td>\n",
       "      <td>NaN</td>\n",
       "      <td>NaN</td>\n",
       "      <td>NaN</td>\n",
       "      <td>NaN</td>\n",
       "      <td>NaN</td>\n",
       "    </tr>\n",
       "    <tr>\n",
       "      <th>95</th>\n",
       "      <td>Prefer not to say</td>\n",
       "      <td>173.0</td>\n",
       "      <td>O</td>\n",
       "      <td>Rh positive</td>\n",
       "      <td>160.0</td>\n",
       "      <td>AB</td>\n",
       "      <td>Rh positive</td>\n",
       "      <td>170</td>\n",
       "      <td>B</td>\n",
       "      <td>Rh positive</td>\n",
       "      <td>...</td>\n",
       "      <td>NaN</td>\n",
       "      <td>NaN</td>\n",
       "      <td>NaN</td>\n",
       "      <td>NaN</td>\n",
       "      <td>NaN</td>\n",
       "      <td>NaN</td>\n",
       "      <td>NaN</td>\n",
       "      <td>NaN</td>\n",
       "      <td>NaN</td>\n",
       "      <td>NaN</td>\n",
       "    </tr>\n",
       "    <tr>\n",
       "      <th>96</th>\n",
       "      <td>Prefer not to say</td>\n",
       "      <td>182.0</td>\n",
       "      <td>A</td>\n",
       "      <td>Rh positive</td>\n",
       "      <td>160.0</td>\n",
       "      <td>A</td>\n",
       "      <td>Rh positive</td>\n",
       "      <td>162</td>\n",
       "      <td>O</td>\n",
       "      <td>Rh positive</td>\n",
       "      <td>...</td>\n",
       "      <td>NaN</td>\n",
       "      <td>NaN</td>\n",
       "      <td>NaN</td>\n",
       "      <td>NaN</td>\n",
       "      <td>NaN</td>\n",
       "      <td>NaN</td>\n",
       "      <td>NaN</td>\n",
       "      <td>NaN</td>\n",
       "      <td>NaN</td>\n",
       "      <td>NaN</td>\n",
       "    </tr>\n",
       "  </tbody>\n",
       "</table>\n",
       "<p>97 rows × 26 columns</p>\n",
       "</div>"
      ],
      "text/plain": [
       "              You are  Your height (in cm) Your blood group   \n",
       "0              Female                145.0                O  \\\n",
       "1              Female                156.0                B   \n",
       "2              Female                160.0                O   \n",
       "3              Female                168.0                B   \n",
       "4              Female                163.0                A   \n",
       "..                ...                  ...              ...   \n",
       "92               Male                179.0                O   \n",
       "93               Male                180.0                O   \n",
       "94               Male                167.0                O   \n",
       "95  Prefer not to say                173.0                O   \n",
       "96  Prefer not to say                182.0                A   \n",
       "\n",
       "   Your Rh blood type  Height of your mother (in cm)   \n",
       "0         Rh positive                          150.0  \\\n",
       "1         Rh negative                          162.0   \n",
       "2         Rh positive                          157.0   \n",
       "3         Rh positive                          154.0   \n",
       "4         Rh positive                          158.0   \n",
       "..                ...                            ...   \n",
       "92        Rh positive                          165.0   \n",
       "93        Rh positive                          167.0   \n",
       "94        Rh positive                          151.0   \n",
       "95        Rh positive                          160.0   \n",
       "96        Rh positive                          160.0   \n",
       "\n",
       "   Blood group of your mother Rh blood type of your mother   \n",
       "0                           O                  Rh positive  \\\n",
       "1                           O                  Rh positive   \n",
       "2                           O                  Rh positive   \n",
       "3                           B                  Rh negative   \n",
       "4                           B                  Rh positive   \n",
       "..                        ...                          ...   \n",
       "92                          O                  Rh positive   \n",
       "93                          B                  Rh positive   \n",
       "94                          O                  Rh positive   \n",
       "95                         AB                  Rh positive   \n",
       "96                          A                  Rh positive   \n",
       "\n",
       "   Height of your father (in cm) Blood group of your father   \n",
       "0                            165                          B  \\\n",
       "1                            172                         AB   \n",
       "2                            172                          A   \n",
       "3                            163                          B   \n",
       "4                          162.5                          B   \n",
       "..                           ...                        ...   \n",
       "92                           180                          O   \n",
       "93                           175                          B   \n",
       "94                      Deceased                          O   \n",
       "95                           170                          B   \n",
       "96                           162                          O   \n",
       "\n",
       "   Rh blood type of your father  ... Blood group of your sibling 2   \n",
       "0                   Rh positive  ...                             B  \\\n",
       "1                   Rh positive  ...                             O   \n",
       "2                   Rh positive  ...                             A   \n",
       "3                   Rh negative  ...                           NaN   \n",
       "4                   Rh positive  ...                           NaN   \n",
       "..                          ...  ...                           ...   \n",
       "92                  Rh positive  ...                           NaN   \n",
       "93                  Rh positive  ...                           NaN   \n",
       "94                  Rh positive  ...                           NaN   \n",
       "95                  Rh positive  ...                           NaN   \n",
       "96                  Rh positive  ...                           NaN   \n",
       "\n",
       "    Rh blood type of your sibling 2 Your sibling 3 is   \n",
       "0                       Rh positive               NaN  \\\n",
       "1                       Rh positive            Female   \n",
       "2                       Rh positive               NaN   \n",
       "3                               NaN               NaN   \n",
       "4                               NaN               NaN   \n",
       "..                              ...               ...   \n",
       "92                              NaN               NaN   \n",
       "93                              NaN               NaN   \n",
       "94                              NaN               NaN   \n",
       "95                              NaN               NaN   \n",
       "96                              NaN               NaN   \n",
       "\n",
       "   Height of sibling 3 (in cm) Blood group of your sibling 3   \n",
       "0                          NaN                           NaN  \\\n",
       "1                          NaN                             O   \n",
       "2                          NaN                           NaN   \n",
       "3                          NaN                           NaN   \n",
       "4                          NaN                           NaN   \n",
       "..                         ...                           ...   \n",
       "92                         NaN                           NaN   \n",
       "93                         NaN                           NaN   \n",
       "94                         NaN                           NaN   \n",
       "95                         NaN                           NaN   \n",
       "96                         NaN                           NaN   \n",
       "\n",
       "    Rh blood type of your sibling 3 Your sibling 4 is   \n",
       "0                               NaN               NaN  \\\n",
       "1                       Rh positive               NaN   \n",
       "2                               NaN               NaN   \n",
       "3                               NaN               NaN   \n",
       "4                               NaN               NaN   \n",
       "..                              ...               ...   \n",
       "92                              NaN               NaN   \n",
       "93                              NaN               NaN   \n",
       "94                              NaN               NaN   \n",
       "95                              NaN               NaN   \n",
       "96                              NaN               NaN   \n",
       "\n",
       "   Height of sibling 4 (in cm) Blood group of your sibling 4   \n",
       "0                          NaN                           NaN  \\\n",
       "1                          NaN                           NaN   \n",
       "2                          NaN                           NaN   \n",
       "3                          NaN                           NaN   \n",
       "4                          NaN                           NaN   \n",
       "..                         ...                           ...   \n",
       "92                         NaN                           NaN   \n",
       "93                         NaN                           NaN   \n",
       "94                         NaN                           NaN   \n",
       "95                         NaN                           NaN   \n",
       "96                         NaN                           NaN   \n",
       "\n",
       "    Rh blood type of your sibling 4  \n",
       "0                               NaN  \n",
       "1                               NaN  \n",
       "2                               NaN  \n",
       "3                               NaN  \n",
       "4                               NaN  \n",
       "..                              ...  \n",
       "92                              NaN  \n",
       "93                              NaN  \n",
       "94                              NaN  \n",
       "95                              NaN  \n",
       "96                              NaN  \n",
       "\n",
       "[97 rows x 26 columns]"
      ]
     },
     "execution_count": 6,
     "metadata": {},
     "output_type": "execute_result"
    }
   ],
   "source": [
    "df"
   ]
  },
  {
   "cell_type": "code",
   "execution_count": 8,
   "id": "669bfe8e",
   "metadata": {},
   "outputs": [],
   "source": [
    "x=df[\"Your height (in cm)\"]"
   ]
  },
  {
   "cell_type": "code",
   "execution_count": 17,
   "id": "1f62344a",
   "metadata": {},
   "outputs": [
    {
     "data": {
      "text/plain": [
       "97"
      ]
     },
     "execution_count": 17,
     "metadata": {},
     "output_type": "execute_result"
    }
   ],
   "source": [
    "x.size"
   ]
  },
  {
   "cell_type": "code",
   "execution_count": 18,
   "id": "57aea216",
   "metadata": {},
   "outputs": [],
   "source": [
    "x[14]\n",
    "\n",
    "height=[]\n",
    "for i in range(97):\n",
    "    if i==14:\n",
    "        continue\n",
    "    else:\n",
    "        height.append(x[i])"
   ]
  },
  {
   "cell_type": "code",
   "execution_count": 56,
   "id": "fb43c7ee",
   "metadata": {},
   "outputs": [
    {
     "data": {
      "text/plain": [
       "Text(0, 0.5, 'No. of Observations')"
      ]
     },
     "execution_count": 56,
     "metadata": {},
     "output_type": "execute_result"
    },
    {
     "data": {
      "image/png": "[encoded data removed]",
      "text/plain": [
       "<Figure size 600x500 with 1 Axes>"
      ]
     },
     "metadata": {},
     "output_type": "display_data"
    }
   ],
   "source": [
    "plt.figure(figsize=(6,5))\n",
    "#plt.hist(height,bins=10)\n",
    "plt.hist(height, bins=np.arange(min(height), max(height) + 2, 2))\n",
    "plt.xlabel('Height(Combined Data)')\n",
    "plt.ylabel('No. of Observations')"
   ]
  },
  {
   "cell_type": "code",
   "execution_count": 49,
   "id": "260d98ee",
   "metadata": {},
   "outputs": [
    {
     "data": {
      "text/plain": [
       "167.05583333333334"
      ]
     },
     "execution_count": 49,
     "metadata": {},
     "output_type": "execute_result"
    }
   ],
   "source": [
    "mean=np.mean(height)"
   ]
  },
  {
   "cell_type": "code",
   "execution_count": 51,
   "id": "93b2257b",
   "metadata": {},
   "outputs": [
    {
     "data": {
      "text/plain": [
       "83.90647430555558"
      ]
     },
     "execution_count": 51,
     "metadata": {},
     "output_type": "execute_result"
    }
   ],
   "source": [
    "variance=np.std(height)**2"
   ]
  },
  {
   "cell_type": "code",
   "execution_count": 27,
   "id": "30011278",
   "metadata": {},
   "outputs": [],
   "source": [
    "Blood=df['Your blood group']"
   ]
  },
  {
   "cell_type": "code",
   "execution_count": 30,
   "id": "37ac09da",
   "metadata": {},
   "outputs": [],
   "source": [
    "O=0\n",
    "A=0\n",
    "B=0\n",
    "AB=0\n",
    "for i in range(Blood.size):\n",
    "    if Blood[i]=='O':\n",
    "        O+=1\n",
    "    if Blood[i]=='A':\n",
    "        A+=1\n",
    "    if Blood[i]=='B':\n",
    "        B+=1\n",
    "    if Blood[i]=='AB':\n",
    "        AB+=1\n",
    "        "
   ]
  },
  {
   "cell_type": "code",
   "execution_count": 45,
   "id": "8733bba8",
   "metadata": {},
   "outputs": [
    {
     "data": {
      "text/plain": [
       "Text(0, 0.5, 'No.of Observations')"
      ]
     },
     "execution_count": 45,
     "metadata": {},
     "output_type": "execute_result"
    },
    {
     "data": {
      "image/png": "[encoded data removed]",
      "text/plain": [
       "<Figure size 600x500 with 1 Axes>"
      ]
     },
     "metadata": {},
     "output_type": "display_data"
    }
   ],
   "source": [
    "Blood_grps={'O':O,'A':A,'B':B,'AB':AB}\n",
    "values=list(Blood_grps.values())\n",
    "keyd=list(Blood_grps.keys())\n",
    "\n",
    "plt.figure(figsize=(6,5))\n",
    "\n",
    "plt.bar(keyd,values,color='maroon')\n",
    "plt.xlabel('Blood Groups')\n",
    "plt.ylabel('No.of Observations')"
   ]
  },
  {
   "cell_type": "code",
   "execution_count": 58,
   "id": "1576e766",
   "metadata": {},
   "outputs": [
    {
     "data": {
      "text/plain": [
       "0                Female\n",
       "1                Female\n",
       "2                Female\n",
       "3                Female\n",
       "4                Female\n",
       "            ...        \n",
       "92                 Male\n",
       "93                 Male\n",
       "94                 Male\n",
       "95    Prefer not to say\n",
       "96    Prefer not to say\n",
       "Name: You are, Length: 97, dtype: object"
      ]
     },
     "execution_count": 58,
     "metadata": {},
     "output_type": "execute_result"
    }
   ],
   "source": [
    "gender=df['You are']"
   ]
  },
  {
   "cell_type": "code",
   "execution_count": 62,
   "id": "55b606bb",
   "metadata": {},
   "outputs": [],
   "source": [
    "male_height=[]\n",
    "female_height=[]\n",
    "\n",
    "for i in range(len(height)):\n",
    "    if gender[i]=='Female':\n",
    "        female_height.append(height[i])\n",
    "    elif gender[i]=='Male':\n",
    "        male_height.append(height[i])"
   ]
  },
  {
   "cell_type": "code",
   "execution_count": 72,
   "id": "f8e311a6",
   "metadata": {},
   "outputs": [
    {
     "data": {
      "text/plain": [
       "160.03170731707314"
      ]
     },
     "execution_count": 72,
     "metadata": {},
     "output_type": "execute_result"
    }
   ],
   "source": [
    "np.mean(female_height)"
   ]
  },
  {
   "cell_type": "code",
   "execution_count": 70,
   "id": "7d86ed24",
   "metadata": {},
   "outputs": [
    {
     "data": {
      "text/plain": [
       "<matplotlib.legend.Legend at 0x7f08247bb670>"
      ]
     },
     "execution_count": 70,
     "metadata": {},
     "output_type": "execute_result"
    },
    {
     "data": {
      "image/png": "[encoded data removed]",
      "text/plain": [
       "<Figure size 600x500 with 1 Axes>"
      ]
     },
     "metadata": {},
     "output_type": "display_data"
    }
   ],
   "source": [
    "\n",
    "plt.figure(figsize=(6,5))\n",
    "plt.hist(male_height,label='Height(Males)',histtype='step')\n",
    "plt.hist(female_height,label='Height(Females)',histtype='step')\n",
    "plt.legend()"
   ]
  }
 ],
 "metadata": {
  "kernelspec": {
   "display_name": "Python 3 (ipykernel)",
   "language": "python",
   "name": "python3"
  },
  "language_info": {
   "codemirror_mode": {
    "name": "ipython",
    "version": 3
   },
   "file_extension": ".py",
   "mimetype": "text/x-python",
   "name": "python",
   "nbconvert_exporter": "python",
   "pygments_lexer": "ipython3",
   "version": "3.10.9"
  }
 },
 "nbformat": 4,
 "nbformat_minor": 5
}
