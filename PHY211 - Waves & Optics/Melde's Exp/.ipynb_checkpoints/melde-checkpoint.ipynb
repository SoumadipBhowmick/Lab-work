{
 "cells": [
  {
   "cell_type": "code",
   "execution_count": 57,
   "id": "83ec271b",
   "metadata": {},
   "outputs": [],
   "source": [
    "import numpy as np\n",
    "import matplotlib.pyplot as plt\n",
    "import pandas as pd\n",
    "import scienceplots\n",
    "\n",
    "plt.style.use(['science','no-latex'])\n",
    "df=pd.read_csv(\"data.csv\",delimiter=',')"
   ]
  },
  {
   "cell_type": "code",
   "execution_count": 58,
   "id": "910adca4",
   "metadata": {},
   "outputs": [
    {
     "data": {
      "text/html": [
       "<div>\n",
       "<style scoped>\n",
       "    .dataframe tbody tr th:only-of-type {\n",
       "        vertical-align: middle;\n",
       "    }\n",
       "\n",
       "    .dataframe tbody tr th {\n",
       "        vertical-align: top;\n",
       "    }\n",
       "\n",
       "    .dataframe thead th {\n",
       "        text-align: right;\n",
       "    }\n",
       "</style>\n",
       "<table border=\"1\" class=\"dataframe\">\n",
       "  <thead>\n",
       "    <tr style=\"text-align: right;\">\n",
       "      <th></th>\n",
       "      <th>Length(cm)</th>\n",
       "      <th>Mass(g)</th>\n",
       "      <th>Loops</th>\n",
       "      <th>Mode</th>\n",
       "    </tr>\n",
       "  </thead>\n",
       "  <tbody>\n",
       "    <tr>\n",
       "      <th>0</th>\n",
       "      <td>100.0</td>\n",
       "      <td>20.0</td>\n",
       "      <td>4.0</td>\n",
       "      <td>Longitudinal</td>\n",
       "    </tr>\n",
       "    <tr>\n",
       "      <th>1</th>\n",
       "      <td>120.0</td>\n",
       "      <td>20.0</td>\n",
       "      <td>5.0</td>\n",
       "      <td>Longitudinal</td>\n",
       "    </tr>\n",
       "    <tr>\n",
       "      <th>2</th>\n",
       "      <td>120.0</td>\n",
       "      <td>50.0</td>\n",
       "      <td>7.0</td>\n",
       "      <td>Transverse</td>\n",
       "    </tr>\n",
       "    <tr>\n",
       "      <th>3</th>\n",
       "      <td>100.0</td>\n",
       "      <td>20.0</td>\n",
       "      <td>8.0</td>\n",
       "      <td>Transverse</td>\n",
       "    </tr>\n",
       "    <tr>\n",
       "      <th>4</th>\n",
       "      <td>80.0</td>\n",
       "      <td>20.0</td>\n",
       "      <td>3.0</td>\n",
       "      <td>Longitudinal</td>\n",
       "    </tr>\n",
       "    <tr>\n",
       "      <th>5</th>\n",
       "      <td>80.0</td>\n",
       "      <td>20.0</td>\n",
       "      <td>6.0</td>\n",
       "      <td>Transverse</td>\n",
       "    </tr>\n",
       "    <tr>\n",
       "      <th>6</th>\n",
       "      <td>55.0</td>\n",
       "      <td>30.0</td>\n",
       "      <td>2.0</td>\n",
       "      <td>Longitudinal</td>\n",
       "    </tr>\n",
       "    <tr>\n",
       "      <th>7</th>\n",
       "      <td>57.5</td>\n",
       "      <td>50.3</td>\n",
       "      <td>2.0</td>\n",
       "      <td>Longitudinal</td>\n",
       "    </tr>\n",
       "    <tr>\n",
       "      <th>8</th>\n",
       "      <td>53.5</td>\n",
       "      <td>20.2</td>\n",
       "      <td>4.0</td>\n",
       "      <td>Transverse</td>\n",
       "    </tr>\n",
       "    <tr>\n",
       "      <th>9</th>\n",
       "      <td>57.5</td>\n",
       "      <td>30.0</td>\n",
       "      <td>4.0</td>\n",
       "      <td>Transverse</td>\n",
       "    </tr>\n",
       "    <tr>\n",
       "      <th>10</th>\n",
       "      <td>NaN</td>\n",
       "      <td>NaN</td>\n",
       "      <td>NaN</td>\n",
       "      <td>NaN</td>\n",
       "    </tr>\n",
       "    <tr>\n",
       "      <th>11</th>\n",
       "      <td>55.0</td>\n",
       "      <td>30.0</td>\n",
       "      <td>4.0</td>\n",
       "      <td>Transverse</td>\n",
       "    </tr>\n",
       "    <tr>\n",
       "      <th>12</th>\n",
       "      <td>57.5</td>\n",
       "      <td>30.0</td>\n",
       "      <td>2.0</td>\n",
       "      <td>Longitudinal</td>\n",
       "    </tr>\n",
       "    <tr>\n",
       "      <th>13</th>\n",
       "      <td>40.5</td>\n",
       "      <td>0.0</td>\n",
       "      <td>4.0</td>\n",
       "      <td>Transverse</td>\n",
       "    </tr>\n",
       "    <tr>\n",
       "      <th>14</th>\n",
       "      <td>40.5</td>\n",
       "      <td>0.0</td>\n",
       "      <td>2.0</td>\n",
       "      <td>Longitudinal</td>\n",
       "    </tr>\n",
       "    <tr>\n",
       "      <th>15</th>\n",
       "      <td>41.5</td>\n",
       "      <td>20.2</td>\n",
       "      <td>3.0</td>\n",
       "      <td>Transverse</td>\n",
       "    </tr>\n",
       "    <tr>\n",
       "      <th>16</th>\n",
       "      <td>41.5</td>\n",
       "      <td>20.2</td>\n",
       "      <td>2.0</td>\n",
       "      <td>Longitudinal</td>\n",
       "    </tr>\n",
       "  </tbody>\n",
       "</table>\n",
       "</div>"
      ],
      "text/plain": [
       "    Length(cm)  Mass(g)  Loops          Mode\n",
       "0        100.0     20.0    4.0  Longitudinal\n",
       "1        120.0     20.0    5.0  Longitudinal\n",
       "2        120.0     50.0    7.0    Transverse\n",
       "3        100.0     20.0    8.0    Transverse\n",
       "4         80.0     20.0    3.0  Longitudinal\n",
       "5         80.0     20.0    6.0    Transverse\n",
       "6         55.0     30.0    2.0  Longitudinal\n",
       "7         57.5     50.3    2.0  Longitudinal\n",
       "8         53.5     20.2    4.0    Transverse\n",
       "9         57.5     30.0    4.0    Transverse\n",
       "10         NaN      NaN    NaN           NaN\n",
       "11        55.0     30.0    4.0    Transverse\n",
       "12        57.5     30.0    2.0  Longitudinal\n",
       "13        40.5      0.0    4.0    Transverse\n",
       "14        40.5      0.0    2.0  Longitudinal\n",
       "15        41.5     20.2    3.0    Transverse\n",
       "16        41.5     20.2    2.0  Longitudinal"
      ]
     },
     "execution_count": 58,
     "metadata": {},
     "output_type": "execute_result"
    }
   ],
   "source": [
    "df"
   ]
  },
  {
   "cell_type": "code",
   "execution_count": 59,
   "id": "670208ce",
   "metadata": {},
   "outputs": [],
   "source": [
    "Mass_wt=df['Mass(g)'] #+-0.001\n",
    "length=df['Length(cm)'] #+-0.005\n",
    "n=df['Loops']    \n",
    "mode=df['Mode']"
   ]
  },
  {
   "cell_type": "code",
   "execution_count": 60,
   "id": "70e8cfc9",
   "metadata": {},
   "outputs": [],
   "source": [
    "m=0.002 #+-0.001\n",
    "g=9.81  \n",
    "def freq(mode,M,l,n):\n",
    "    frequency=[]\n",
    "    for i in range(mode.size):\n",
    "    \n",
    "        if mode[i]=='Transverse':\n",
    "            f=np.sqrt(M[i]*g/m)*(n[i]/(2*l[i]))\n",
    "\n",
    "        elif mode[i]=='Longitudinal':\n",
    "            f=np.sqrt(M[i]*g/m)*(n[i]/l[i])\n",
    "        frequency.append(f)\n",
    "    return frequency"
   ]
  },
  {
   "cell_type": "code",
   "execution_count": 61,
   "id": "cd3ce556",
   "metadata": {},
   "outputs": [],
   "source": [
    "pan_wt=24.4\n",
    "frequ=freq(mode,(Mass_wt+pan_wt)*1e-3,length*1e-2,n)"
   ]
  },
  {
   "cell_type": "code",
   "execution_count": 85,
   "id": "481cfb87",
   "metadata": {},
   "outputs": [
    {
     "data": {
      "text/plain": [
       "[59.029755208708096,\n",
       " 61.48932834240427,\n",
       " 55.71764756340671,\n",
       " 59.029755208708096,\n",
       " 55.34039550816384,\n",
       " 55.34039550816384,\n",
       " 59.39997495616802,\n",
       " 66.57971897812462,\n",
       " 55.292108154886996,\n",
       " 56.8173673493781,\n",
       " 56.8173673493781,\n",
       " 59.39997495616802,\n",
       " 56.8173673493781,\n",
       " 54.02433024006422,\n",
       " 54.02433024006422,\n",
       " 53.460140716020256,\n",
       " 71.28018762136034]"
      ]
     },
     "execution_count": 85,
     "metadata": {},
     "output_type": "execute_result"
    }
   ],
   "source": [
    "frequ"
   ]
  },
  {
   "cell_type": "code",
   "execution_count": 6,
   "id": "57d56f6b",
   "metadata": {},
   "outputs": [],
   "source": [
    "x=np.zeros(13)\n",
    "\n",
    "x[10]=frequ[10]"
   ]
  },
  {
   "cell_type": "code",
   "execution_count": 7,
   "id": "edaef28c",
   "metadata": {},
   "outputs": [],
   "source": [
    "fre=frequ-x"
   ]
  },
  {
   "cell_type": "code",
   "execution_count": 8,
   "id": "9423da5c",
   "metadata": {},
   "outputs": [
    {
     "data": {
      "text/plain": [
       "58.354482423638224"
      ]
     },
     "execution_count": 8,
     "metadata": {},
     "output_type": "execute_result"
    }
   ],
   "source": [
    "np.sum(fre)/12"
   ]
  },
  {
   "cell_type": "code",
   "execution_count": 9,
   "id": "3e0a29b1",
   "metadata": {},
   "outputs": [
    {
     "data": {
      "text/plain": [
       "array([59.02975521, 61.48932834, 55.71764756, 59.02975521, 55.34039551,\n",
       "       55.34039551, 59.39997496, 66.57971898, 55.29210815, 56.81736735,\n",
       "        0.        , 59.39997496, 56.81736735])"
      ]
     },
     "execution_count": 9,
     "metadata": {},
     "output_type": "execute_result"
    }
   ],
   "source": [
    "fre"
   ]
  },
  {
   "cell_type": "code",
   "execution_count": 62,
   "id": "251c3c10",
   "metadata": {},
   "outputs": [
    {
     "data": {
      "text/plain": [
       "58.22706736767917"
      ]
     },
     "execution_count": 62,
     "metadata": {},
     "output_type": "execute_result"
    }
   ],
   "source": [
    "np.mean(frequ)"
   ]
  },
  {
   "cell_type": "code",
   "execution_count": 11,
   "id": "ad32f186",
   "metadata": {},
   "outputs": [
    {
     "data": {
      "text/plain": [
       "1.755014548437618"
      ]
     },
     "execution_count": 11,
     "metadata": {},
     "output_type": "execute_result"
    }
   ],
   "source": [
    "np.std(frequ)/np.sqrt(len(frequ))"
   ]
  },
  {
   "cell_type": "code",
   "execution_count": 12,
   "id": "b6e569fb",
   "metadata": {},
   "outputs": [
    {
     "data": {
      "text/plain": [
       "[61.256224173548276]"
      ]
     },
     "execution_count": 12,
     "metadata": {},
     "output_type": "execute_result"
    }
   ],
   "source": [
    "freq(np.array(['Longitudinal']),[(30+24.4)*1e-3],[80*1e-2],[3])"
   ]
  },
  {
   "cell_type": "markdown",
   "id": "34c511b3",
   "metadata": {},
   "source": [
    "$$56.752 /pm 1.755$$"
   ]
  },
  {
   "cell_type": "code",
   "execution_count": 13,
   "id": "06dddcdd",
   "metadata": {},
   "outputs": [
    {
     "ename": "SyntaxError",
     "evalue": "invalid syntax (2838498852.py, line 1)",
     "output_type": "error",
     "traceback": [
      "\u001b[0;36m  Cell \u001b[0;32mIn[13], line 1\u001b[0;36m\u001b[0m\n\u001b[0;31m    plt.plot(,frequ)\u001b[0m\n\u001b[0m             ^\u001b[0m\n\u001b[0;31mSyntaxError\u001b[0m\u001b[0;31m:\u001b[0m invalid syntax\n"
     ]
    }
   ],
   "source": [
    "plt.plot(,frequ)"
   ]
  },
  {
   "cell_type": "code",
   "execution_count": 76,
   "id": "68f58ace",
   "metadata": {},
   "outputs": [],
   "source": [
    "\n",
    "del_l=np.std(length*1e-2)/np.sqrt(length.size)\n",
    "T=(Mass_wt+pan_wt)*g*1e-3\n",
    "del_T=np.std(T)/np.sqrt(T.size)\n",
    "del_m=0.0001\n",
    "del_n=np.std(n)/np.sqrt(n.size)\n",
    "no=np.mean(n)\n",
    "err=np.mean(frequ)*np.sqrt(0.5*(del_l/np.mean(length*1e-2))**2+(0.5*del_T/np.mean(T))**2+(0.5*del_m/m)**2)"
   ]
  },
  {
   "cell_type": "code",
   "execution_count": 82,
   "id": "69f9e377",
   "metadata": {},
   "outputs": [
    {
     "data": {
      "text/plain": [
       "0.06511020070076666"
      ]
     },
     "execution_count": 82,
     "metadata": {},
     "output_type": "execute_result"
    }
   ],
   "source": [
    "del_l"
   ]
  },
  {
   "cell_type": "code",
   "execution_count": 83,
   "id": "8bc7046f",
   "metadata": {},
   "outputs": [
    {
     "data": {
      "text/plain": [
       "0.6875"
      ]
     },
     "execution_count": 83,
     "metadata": {},
     "output_type": "execute_result"
    }
   ],
   "source": [
    "np.mean(length*1e-2)"
   ]
  },
  {
   "cell_type": "code",
   "execution_count": 84,
   "id": "df1444a2",
   "metadata": {},
   "outputs": [
    {
     "data": {
      "text/plain": [
       "4.589112886292753"
      ]
     },
     "execution_count": 84,
     "metadata": {},
     "output_type": "execute_result"
    }
   ],
   "source": [
    "err"
   ]
  },
  {
   "cell_type": "code",
   "execution_count": 102,
   "id": "fe1aaf58",
   "metadata": {},
   "outputs": [
    {
     "data": {
      "text/plain": [
       "[<matplotlib.lines.Line2D at 0x7fb059c6d900>]"
      ]
     },
     "execution_count": 102,
     "metadata": {},
     "output_type": "execute_result"
    },
    {
     "data": {
      "image/png": "[encoded data removed]",
      "text/plain": [
       "<Figure size 350x262.5 with 1 Axes>"
      ]
     },
     "metadata": {},
     "output_type": "display_data"
    }
   ],
   "source": [
    "M=[1,2,2.5]\n",
    "N=[8.99,12.38,23.21]\n",
    "O=[10.35,10.55,10.91]\n",
    "l=[7.88,8.99,9.44]\n",
    "M=np.array(M)\n",
    "\n",
    "root_1=np.sqrt(M)\n",
    "\n",
    "plt.plot(root_1,l,'ko')\n",
    "#plt.plot(root_1,N,'k.-')\n",
    "#plt.plot(root_1,O,'b.-')"
   ]
  },
  {
   "cell_type": "code",
   "execution_count": 100,
   "id": "5d2f52d0",
   "metadata": {},
   "outputs": [
    {
     "data": {
      "text/plain": [
       "<matplotlib.collections.PathCollection at 0x7fb059e59390>"
      ]
     },
     "execution_count": 100,
     "metadata": {},
     "output_type": "execute_result"
    },
    {
     "data": {
      "image/png": "[encoded data removed]",
      "text/plain": [
       "<Figure size 350x262.5 with 1 Axes>"
      ]
     },
     "metadata": {},
     "output_type": "display_data"
    }
   ],
   "source": [
    "plt.scatter(root_1,O,)"
   ]
  },
  {
   "cell_type": "code",
   "execution_count": 101,
   "id": "b0e0de98",
   "metadata": {},
   "outputs": [
    {
     "data": {
      "text/plain": [
       "[<matplotlib.lines.Line2D at 0x7fb059d692a0>]"
      ]
     },
     "execution_count": 101,
     "metadata": {},
     "output_type": "execute_result"
    },
    {
     "data": {
      "image/png": "[encoded data removed]",
      "text/plain": [
       "<Figure size 350x262.5 with 1 Axes>"
      ]
     },
     "metadata": {},
     "output_type": "display_data"
    }
   ],
   "source": [
    "plt.plot(root_1,N,'ko')"
   ]
  }
 ],
 "metadata": {
  "kernelspec": {
   "display_name": "Python 3 (ipykernel)",
   "language": "python",
   "name": "python3"
  },
  "language_info": {
   "codemirror_mode": {
    "name": "ipython",
    "version": 3
   },
   "file_extension": ".py",
   "mimetype": "text/x-python",
   "name": "python",
   "nbconvert_exporter": "python",
   "pygments_lexer": "ipython3",
   "version": "3.10.9"
  }
 },
 "nbformat": 4,
 "nbformat_minor": 5
}
