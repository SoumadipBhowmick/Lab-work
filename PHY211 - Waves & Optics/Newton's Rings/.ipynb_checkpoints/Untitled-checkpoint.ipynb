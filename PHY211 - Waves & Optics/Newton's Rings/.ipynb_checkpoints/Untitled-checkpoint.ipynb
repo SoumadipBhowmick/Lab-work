{
 "cells": [
  {
   "cell_type": "code",
   "execution_count": 1,
   "id": "a38f5c41",
   "metadata": {},
   "outputs": [
    {
     "data": {
      "text/html": [
       "<div>\n",
       "<style scoped>\n",
       "    .dataframe tbody tr th:only-of-type {\n",
       "        vertical-align: middle;\n",
       "    }\n",
       "\n",
       "    .dataframe tbody tr th {\n",
       "        vertical-align: top;\n",
       "    }\n",
       "\n",
       "    .dataframe thead th {\n",
       "        text-align: right;\n",
       "    }\n",
       "</style>\n",
       "<table border=\"1\" class=\"dataframe\">\n",
       "  <thead>\n",
       "    <tr style=\"text-align: right;\">\n",
       "      <th></th>\n",
       "      <th>MSD</th>\n",
       "      <th>VSD</th>\n",
       "      <th>Reading</th>\n",
       "      <th>Unnamed: 3</th>\n",
       "      <th>ring</th>\n",
       "      <th>MSD.1</th>\n",
       "      <th>VSD.1</th>\n",
       "      <th>Reading.1</th>\n",
       "      <th>Unnamed: 8</th>\n",
       "      <th>Diameter</th>\n",
       "    </tr>\n",
       "  </thead>\n",
       "  <tbody>\n",
       "    <tr>\n",
       "      <th>0</th>\n",
       "      <td>37.5</td>\n",
       "      <td>35.0</td>\n",
       "      <td>37.85</td>\n",
       "      <td>NaN</td>\n",
       "      <td>NaN</td>\n",
       "      <td>NaN</td>\n",
       "      <td>NaN</td>\n",
       "      <td>NaN</td>\n",
       "      <td>NaN</td>\n",
       "      <td>NaN</td>\n",
       "    </tr>\n",
       "    <tr>\n",
       "      <th>1</th>\n",
       "      <td>41.0</td>\n",
       "      <td>46.0</td>\n",
       "      <td>41.46</td>\n",
       "      <td>NaN</td>\n",
       "      <td>22.0</td>\n",
       "      <td>NaN</td>\n",
       "      <td>NaN</td>\n",
       "      <td>0.00</td>\n",
       "      <td>NaN</td>\n",
       "      <td>NaN</td>\n",
       "    </tr>\n",
       "    <tr>\n",
       "      <th>2</th>\n",
       "      <td>41.0</td>\n",
       "      <td>35.0</td>\n",
       "      <td>41.35</td>\n",
       "      <td>NaN</td>\n",
       "      <td>20.0</td>\n",
       "      <td>33.5</td>\n",
       "      <td>11.00</td>\n",
       "      <td>33.61</td>\n",
       "      <td>NaN</td>\n",
       "      <td>7.74</td>\n",
       "    </tr>\n",
       "    <tr>\n",
       "      <th>3</th>\n",
       "      <td>41.0</td>\n",
       "      <td>20.0</td>\n",
       "      <td>41.20</td>\n",
       "      <td>NaN</td>\n",
       "      <td>18.0</td>\n",
       "      <td>33.5</td>\n",
       "      <td>35.00</td>\n",
       "      <td>33.85</td>\n",
       "      <td>NaN</td>\n",
       "      <td>7.35</td>\n",
       "    </tr>\n",
       "    <tr>\n",
       "      <th>4</th>\n",
       "      <td>40.5</td>\n",
       "      <td>47.0</td>\n",
       "      <td>40.97</td>\n",
       "      <td>NaN</td>\n",
       "      <td>16.0</td>\n",
       "      <td>34.0</td>\n",
       "      <td>4.00</td>\n",
       "      <td>34.04</td>\n",
       "      <td>NaN</td>\n",
       "      <td>6.93</td>\n",
       "    </tr>\n",
       "    <tr>\n",
       "      <th>5</th>\n",
       "      <td>40.5</td>\n",
       "      <td>19.0</td>\n",
       "      <td>40.69</td>\n",
       "      <td>NaN</td>\n",
       "      <td>14.0</td>\n",
       "      <td>34.0</td>\n",
       "      <td>28.00</td>\n",
       "      <td>34.28</td>\n",
       "      <td>NaN</td>\n",
       "      <td>6.41</td>\n",
       "    </tr>\n",
       "    <tr>\n",
       "      <th>6</th>\n",
       "      <td>40.0</td>\n",
       "      <td>45.0</td>\n",
       "      <td>40.45</td>\n",
       "      <td>NaN</td>\n",
       "      <td>12.0</td>\n",
       "      <td>34.5</td>\n",
       "      <td>1.00</td>\n",
       "      <td>34.51</td>\n",
       "      <td>NaN</td>\n",
       "      <td>5.94</td>\n",
       "    </tr>\n",
       "    <tr>\n",
       "      <th>7</th>\n",
       "      <td>40.0</td>\n",
       "      <td>23.0</td>\n",
       "      <td>40.23</td>\n",
       "      <td>NaN</td>\n",
       "      <td>10.0</td>\n",
       "      <td>34.5</td>\n",
       "      <td>19.00</td>\n",
       "      <td>34.69</td>\n",
       "      <td>NaN</td>\n",
       "      <td>5.54</td>\n",
       "    </tr>\n",
       "    <tr>\n",
       "      <th>8</th>\n",
       "      <td>39.5</td>\n",
       "      <td>47.0</td>\n",
       "      <td>39.97</td>\n",
       "      <td>NaN</td>\n",
       "      <td>8.0</td>\n",
       "      <td>35.0</td>\n",
       "      <td>1.00</td>\n",
       "      <td>35.01</td>\n",
       "      <td>NaN</td>\n",
       "      <td>4.96</td>\n",
       "    </tr>\n",
       "    <tr>\n",
       "      <th>9</th>\n",
       "      <td>39.5</td>\n",
       "      <td>21.0</td>\n",
       "      <td>39.71</td>\n",
       "      <td>NaN</td>\n",
       "      <td>6.0</td>\n",
       "      <td>35.0</td>\n",
       "      <td>32.00</td>\n",
       "      <td>35.32</td>\n",
       "      <td>NaN</td>\n",
       "      <td>4.39</td>\n",
       "    </tr>\n",
       "    <tr>\n",
       "      <th>10</th>\n",
       "      <td>39.0</td>\n",
       "      <td>30.0</td>\n",
       "      <td>39.30</td>\n",
       "      <td>NaN</td>\n",
       "      <td>4.0</td>\n",
       "      <td>35.5</td>\n",
       "      <td>44.00</td>\n",
       "      <td>35.94</td>\n",
       "      <td>NaN</td>\n",
       "      <td>3.36</td>\n",
       "    </tr>\n",
       "    <tr>\n",
       "      <th>11</th>\n",
       "      <td>39.0</td>\n",
       "      <td>4.0</td>\n",
       "      <td>39.04</td>\n",
       "      <td>NaN</td>\n",
       "      <td>3.0</td>\n",
       "      <td>36.0</td>\n",
       "      <td>8.00</td>\n",
       "      <td>36.08</td>\n",
       "      <td>NaN</td>\n",
       "      <td>2.96</td>\n",
       "    </tr>\n",
       "    <tr>\n",
       "      <th>12</th>\n",
       "      <td>38.5</td>\n",
       "      <td>39.0</td>\n",
       "      <td>38.89</td>\n",
       "      <td>NaN</td>\n",
       "      <td>2.0</td>\n",
       "      <td>36.0</td>\n",
       "      <td>48.00</td>\n",
       "      <td>36.48</td>\n",
       "      <td>NaN</td>\n",
       "      <td>2.41</td>\n",
       "    </tr>\n",
       "    <tr>\n",
       "      <th>13</th>\n",
       "      <td>38.0</td>\n",
       "      <td>46.0</td>\n",
       "      <td>38.46</td>\n",
       "      <td>NaN</td>\n",
       "      <td>1.0</td>\n",
       "      <td>36.5</td>\n",
       "      <td>29.00</td>\n",
       "      <td>36.79</td>\n",
       "      <td>NaN</td>\n",
       "      <td>1.67</td>\n",
       "    </tr>\n",
       "    <tr>\n",
       "      <th>14</th>\n",
       "      <td>NaN</td>\n",
       "      <td>NaN</td>\n",
       "      <td>NaN</td>\n",
       "      <td>NaN</td>\n",
       "      <td>NaN</td>\n",
       "      <td>NaN</td>\n",
       "      <td>NaN</td>\n",
       "      <td>NaN</td>\n",
       "      <td>NaN</td>\n",
       "      <td>NaN</td>\n",
       "    </tr>\n",
       "    <tr>\n",
       "      <th>15</th>\n",
       "      <td>NaN</td>\n",
       "      <td>NaN</td>\n",
       "      <td>NaN</td>\n",
       "      <td>NaN</td>\n",
       "      <td>NaN</td>\n",
       "      <td>NaN</td>\n",
       "      <td>NaN</td>\n",
       "      <td>NaN</td>\n",
       "      <td>NaN</td>\n",
       "      <td>NaN</td>\n",
       "    </tr>\n",
       "    <tr>\n",
       "      <th>16</th>\n",
       "      <td>NaN</td>\n",
       "      <td>NaN</td>\n",
       "      <td>NaN</td>\n",
       "      <td>NaN</td>\n",
       "      <td>NaN</td>\n",
       "      <td>NaN</td>\n",
       "      <td>NaN</td>\n",
       "      <td>NaN</td>\n",
       "      <td>NaN</td>\n",
       "      <td>NaN</td>\n",
       "    </tr>\n",
       "    <tr>\n",
       "      <th>17</th>\n",
       "      <td>NaN</td>\n",
       "      <td>NaN</td>\n",
       "      <td>NaN</td>\n",
       "      <td>NaN</td>\n",
       "      <td>NaN</td>\n",
       "      <td>NaN</td>\n",
       "      <td>NaN</td>\n",
       "      <td>NaN</td>\n",
       "      <td>NaN</td>\n",
       "      <td>NaN</td>\n",
       "    </tr>\n",
       "    <tr>\n",
       "      <th>18</th>\n",
       "      <td>NaN</td>\n",
       "      <td>NaN</td>\n",
       "      <td>NaN</td>\n",
       "      <td>NaN</td>\n",
       "      <td>NaN</td>\n",
       "      <td>NaN</td>\n",
       "      <td>NaN</td>\n",
       "      <td>NaN</td>\n",
       "      <td>NaN</td>\n",
       "      <td>NaN</td>\n",
       "    </tr>\n",
       "    <tr>\n",
       "      <th>19</th>\n",
       "      <td>NaN</td>\n",
       "      <td>NaN</td>\n",
       "      <td>NaN</td>\n",
       "      <td>NaN</td>\n",
       "      <td>NaN</td>\n",
       "      <td>NaN</td>\n",
       "      <td>NaN</td>\n",
       "      <td>NaN</td>\n",
       "      <td>NaN</td>\n",
       "      <td>NaN</td>\n",
       "    </tr>\n",
       "    <tr>\n",
       "      <th>20</th>\n",
       "      <td>NaN</td>\n",
       "      <td>NaN</td>\n",
       "      <td>NaN</td>\n",
       "      <td>NaN</td>\n",
       "      <td>NaN</td>\n",
       "      <td>NaN</td>\n",
       "      <td>NaN</td>\n",
       "      <td>NaN</td>\n",
       "      <td>NaN</td>\n",
       "      <td>NaN</td>\n",
       "    </tr>\n",
       "    <tr>\n",
       "      <th>21</th>\n",
       "      <td>NaN</td>\n",
       "      <td>NaN</td>\n",
       "      <td>NaN</td>\n",
       "      <td>NaN</td>\n",
       "      <td>NaN</td>\n",
       "      <td>NaN</td>\n",
       "      <td>NaN</td>\n",
       "      <td>NaN</td>\n",
       "      <td>NaN</td>\n",
       "      <td>NaN</td>\n",
       "    </tr>\n",
       "    <tr>\n",
       "      <th>22</th>\n",
       "      <td>NaN</td>\n",
       "      <td>NaN</td>\n",
       "      <td>NaN</td>\n",
       "      <td>NaN</td>\n",
       "      <td>NaN</td>\n",
       "      <td>NaN</td>\n",
       "      <td>NaN</td>\n",
       "      <td>NaN</td>\n",
       "      <td>NaN</td>\n",
       "      <td>NaN</td>\n",
       "    </tr>\n",
       "    <tr>\n",
       "      <th>23</th>\n",
       "      <td>NaN</td>\n",
       "      <td>NaN</td>\n",
       "      <td>NaN</td>\n",
       "      <td>NaN</td>\n",
       "      <td>NaN</td>\n",
       "      <td>NaN</td>\n",
       "      <td>NaN</td>\n",
       "      <td>NaN</td>\n",
       "      <td>NaN</td>\n",
       "      <td>NaN</td>\n",
       "    </tr>\n",
       "    <tr>\n",
       "      <th>24</th>\n",
       "      <td>NaN</td>\n",
       "      <td>NaN</td>\n",
       "      <td>NaN</td>\n",
       "      <td>NaN</td>\n",
       "      <td>NaN</td>\n",
       "      <td>NaN</td>\n",
       "      <td>NaN</td>\n",
       "      <td>NaN</td>\n",
       "      <td>NaN</td>\n",
       "      <td>NaN</td>\n",
       "    </tr>\n",
       "    <tr>\n",
       "      <th>25</th>\n",
       "      <td>NaN</td>\n",
       "      <td>NaN</td>\n",
       "      <td>NaN</td>\n",
       "      <td>NaN</td>\n",
       "      <td>NaN</td>\n",
       "      <td>NaN</td>\n",
       "      <td>NaN</td>\n",
       "      <td>NaN</td>\n",
       "      <td>NaN</td>\n",
       "      <td>NaN</td>\n",
       "    </tr>\n",
       "    <tr>\n",
       "      <th>26</th>\n",
       "      <td>NaN</td>\n",
       "      <td>NaN</td>\n",
       "      <td>NaN</td>\n",
       "      <td>NaN</td>\n",
       "      <td>NaN</td>\n",
       "      <td>NaN</td>\n",
       "      <td>NaN</td>\n",
       "      <td>NaN</td>\n",
       "      <td>NaN</td>\n",
       "      <td>NaN</td>\n",
       "    </tr>\n",
       "    <tr>\n",
       "      <th>27</th>\n",
       "      <td>NaN</td>\n",
       "      <td>NaN</td>\n",
       "      <td>NaN</td>\n",
       "      <td>NaN</td>\n",
       "      <td>NaN</td>\n",
       "      <td>NaN</td>\n",
       "      <td>NaN</td>\n",
       "      <td>NaN</td>\n",
       "      <td>NaN</td>\n",
       "      <td>NaN</td>\n",
       "    </tr>\n",
       "    <tr>\n",
       "      <th>28</th>\n",
       "      <td>NaN</td>\n",
       "      <td>NaN</td>\n",
       "      <td>NaN</td>\n",
       "      <td>NaN</td>\n",
       "      <td>NaN</td>\n",
       "      <td>NaN</td>\n",
       "      <td>NaN</td>\n",
       "      <td>NaN</td>\n",
       "      <td>NaN</td>\n",
       "      <td>NaN</td>\n",
       "    </tr>\n",
       "    <tr>\n",
       "      <th>29</th>\n",
       "      <td>NaN</td>\n",
       "      <td>NaN</td>\n",
       "      <td>NaN</td>\n",
       "      <td>NaN</td>\n",
       "      <td>NaN</td>\n",
       "      <td>NaN</td>\n",
       "      <td>5.41</td>\n",
       "      <td>NaN</td>\n",
       "      <td>NaN</td>\n",
       "      <td>NaN</td>\n",
       "    </tr>\n",
       "  </tbody>\n",
       "</table>\n",
       "</div>"
      ],
      "text/plain": [
       "     MSD   VSD  Reading  Unnamed: 3  ring  MSD.1  VSD.1  Reading.1   \n",
       "0   37.5  35.0    37.85         NaN   NaN    NaN    NaN        NaN  \\\n",
       "1   41.0  46.0    41.46         NaN  22.0    NaN    NaN       0.00   \n",
       "2   41.0  35.0    41.35         NaN  20.0   33.5  11.00      33.61   \n",
       "3   41.0  20.0    41.20         NaN  18.0   33.5  35.00      33.85   \n",
       "4   40.5  47.0    40.97         NaN  16.0   34.0   4.00      34.04   \n",
       "5   40.5  19.0    40.69         NaN  14.0   34.0  28.00      34.28   \n",
       "6   40.0  45.0    40.45         NaN  12.0   34.5   1.00      34.51   \n",
       "7   40.0  23.0    40.23         NaN  10.0   34.5  19.00      34.69   \n",
       "8   39.5  47.0    39.97         NaN   8.0   35.0   1.00      35.01   \n",
       "9   39.5  21.0    39.71         NaN   6.0   35.0  32.00      35.32   \n",
       "10  39.0  30.0    39.30         NaN   4.0   35.5  44.00      35.94   \n",
       "11  39.0   4.0    39.04         NaN   3.0   36.0   8.00      36.08   \n",
       "12  38.5  39.0    38.89         NaN   2.0   36.0  48.00      36.48   \n",
       "13  38.0  46.0    38.46         NaN   1.0   36.5  29.00      36.79   \n",
       "14   NaN   NaN      NaN         NaN   NaN    NaN    NaN        NaN   \n",
       "15   NaN   NaN      NaN         NaN   NaN    NaN    NaN        NaN   \n",
       "16   NaN   NaN      NaN         NaN   NaN    NaN    NaN        NaN   \n",
       "17   NaN   NaN      NaN         NaN   NaN    NaN    NaN        NaN   \n",
       "18   NaN   NaN      NaN         NaN   NaN    NaN    NaN        NaN   \n",
       "19   NaN   NaN      NaN         NaN   NaN    NaN    NaN        NaN   \n",
       "20   NaN   NaN      NaN         NaN   NaN    NaN    NaN        NaN   \n",
       "21   NaN   NaN      NaN         NaN   NaN    NaN    NaN        NaN   \n",
       "22   NaN   NaN      NaN         NaN   NaN    NaN    NaN        NaN   \n",
       "23   NaN   NaN      NaN         NaN   NaN    NaN    NaN        NaN   \n",
       "24   NaN   NaN      NaN         NaN   NaN    NaN    NaN        NaN   \n",
       "25   NaN   NaN      NaN         NaN   NaN    NaN    NaN        NaN   \n",
       "26   NaN   NaN      NaN         NaN   NaN    NaN    NaN        NaN   \n",
       "27   NaN   NaN      NaN         NaN   NaN    NaN    NaN        NaN   \n",
       "28   NaN   NaN      NaN         NaN   NaN    NaN    NaN        NaN   \n",
       "29   NaN   NaN      NaN         NaN   NaN    NaN   5.41        NaN   \n",
       "\n",
       "    Unnamed: 8  Diameter  \n",
       "0          NaN       NaN  \n",
       "1          NaN       NaN  \n",
       "2          NaN      7.74  \n",
       "3          NaN      7.35  \n",
       "4          NaN      6.93  \n",
       "5          NaN      6.41  \n",
       "6          NaN      5.94  \n",
       "7          NaN      5.54  \n",
       "8          NaN      4.96  \n",
       "9          NaN      4.39  \n",
       "10         NaN      3.36  \n",
       "11         NaN      2.96  \n",
       "12         NaN      2.41  \n",
       "13         NaN      1.67  \n",
       "14         NaN       NaN  \n",
       "15         NaN       NaN  \n",
       "16         NaN       NaN  \n",
       "17         NaN       NaN  \n",
       "18         NaN       NaN  \n",
       "19         NaN       NaN  \n",
       "20         NaN       NaN  \n",
       "21         NaN       NaN  \n",
       "22         NaN       NaN  \n",
       "23         NaN       NaN  \n",
       "24         NaN       NaN  \n",
       "25         NaN       NaN  \n",
       "26         NaN       NaN  \n",
       "27         NaN       NaN  \n",
       "28         NaN       NaN  \n",
       "29         NaN       NaN  "
      ]
     },
     "execution_count": 1,
     "metadata": {},
     "output_type": "execute_result"
    }
   ],
   "source": [
    "import numpy as np\n",
    "import matplotlib.pyplot as plt\n",
    "import pandas as pd\n",
    "from scipy.optimize import curve_fit\n",
    "\n",
    "df= pd.read_csv('data.csv',delimiter=',')\n",
    "df"
   ]
  },
  {
   "cell_type": "code",
   "execution_count": 55,
   "id": "a31ac886",
   "metadata": {},
   "outputs": [],
   "source": [
    "n=[ 20., 18., 16., 14., 12., 10.,  8.,  6.,  4.,  3.,  2.,1.]\n",
    "D=[ 7.74, 7.35, 6.93, 6.41, 5.94, 5.54, 4.96, 4.39, 3.36,2.96, 2.41, 1.67]\n",
    "n=np.array(n)\n",
    "D=np.array(D)"
   ]
  },
  {
   "cell_type": "code",
   "execution_count": 21,
   "id": "a953e9c2",
   "metadata": {},
   "outputs": [],
   "source": [
    "def f(x,a,b):\n",
    "    return a*x+b\n",
    "x=[1,2,2.5]\n",
    "y=[4,8,9]\n",
    "D=D*1e-3\n",
    "popt,pcov=curve_fit(f,x,y)\n",
    "popt,pcov = curve_fit(f,n,D**2)"
   ]
  },
  {
   "cell_type": "code",
   "execution_count": 31,
   "id": "fdf57229",
   "metadata": {},
   "outputs": [
    {
     "data": {
      "text/plain": [
       "array([2.99393946e-06, 1.92591386e-08])"
      ]
     },
     "execution_count": 31,
     "metadata": {},
     "output_type": "execute_result"
    }
   ],
   "source": [
    "popt"
   ]
  },
  {
   "cell_type": "code",
   "execution_count": 64,
   "id": "5fa9348c",
   "metadata": {},
   "outputs": [
    {
     "data": {
      "text/plain": [
       "array([[ 9.46697005e-16, -8.99360496e-15],\n",
       "       [-8.99360496e-15,  1.22280917e-13]])"
      ]
     },
     "execution_count": 64,
     "metadata": {},
     "output_type": "execute_result"
    }
   ],
   "source": [
    "pcov"
   ]
  },
  {
   "cell_type": "code",
   "execution_count": 77,
   "id": "8f628936",
   "metadata": {},
   "outputs": [
    {
     "data": {
      "text/plain": [
       "548.2321183505767"
      ]
     },
     "execution_count": 77,
     "metadata": {},
     "output_type": "execute_result"
    }
   ],
   "source": [
    "1e9*popt[0]/(4*1.36527)"
   ]
  },
  {
   "cell_type": "code",
   "execution_count": 22,
   "id": "a8572a13",
   "metadata": {},
   "outputs": [
    {
     "data": {
      "text/plain": [
       "1.2701253423052634"
      ]
     },
     "execution_count": 22,
     "metadata": {},
     "output_type": "execute_result"
    }
   ],
   "source": [
    "popt[0]/(4*5893*1e-10)"
   ]
  },
  {
   "cell_type": "code",
   "execution_count": 92,
   "id": "d2c99f35",
   "metadata": {},
   "outputs": [
    {
     "data": {
      "text/plain": [
       "Text(0, 0.5, 'Diameter^2(mm^2)')"
      ]
     },
     "execution_count": 92,
     "metadata": {},
     "output_type": "execute_result"
    },
    {
     "data": {
      "image/png": "[encoded data removed]",
      "text/plain": [
       "<Figure size 640x480 with 1 Axes>"
      ]
     },
     "metadata": {},
     "output_type": "display_data"
    }
   ],
   "source": [
    "#D=np.array(df['Diameter'])\n",
    "#n=np.array(df['ring'])\n",
    "x=np.arange(0,20,0.1)\n",
    "plt.plot(n,D**2,'k.')\n",
    "plt.plot(x,f(x,*popt*1e6),'r--')\n",
    "plt.xlabel('Ring no.(n')\n",
    "plt.ylabel('Diameter^2(mm^2)')\n",
    "\n",
    "#lt.plot(x,f(x,0.0000034,),'b--')"
   ]
  },
  {
   "cell_type": "code",
   "execution_count": 89,
   "id": "d75d2987",
   "metadata": {},
   "outputs": [
    {
     "data": {
      "text/plain": [
       "array([1.92591386e-01, 3.18653084e+00, 6.18047030e+00, 9.17440976e+00,\n",
       "       1.21683492e+01, 1.51622887e+01, 1.81562281e+01, 2.11501676e+01,\n",
       "       2.41441070e+01, 2.71380465e+01, 3.01319860e+01, 3.31259254e+01,\n",
       "       3.61198649e+01, 3.91138043e+01, 4.21077438e+01, 4.51016832e+01,\n",
       "       4.80956227e+01, 5.10895622e+01, 5.40835016e+01, 5.70774411e+01,\n",
       "       6.00713805e+01, 6.30653200e+01, 6.60592594e+01, 6.90531989e+01,\n",
       "       7.20471384e+01, 7.50410778e+01, 7.80350173e+01, 8.10289567e+01,\n",
       "       8.40228962e+01, 8.70168356e+01, 9.00107751e+01, 9.30047145e+01,\n",
       "       9.59986540e+01, 9.89925935e+01, 1.01986533e+02, 1.04980472e+02,\n",
       "       1.07974412e+02, 1.10968351e+02, 1.13962291e+02, 1.16956230e+02,\n",
       "       1.19950170e+02, 1.22944109e+02, 1.25938049e+02, 1.28931988e+02,\n",
       "       1.31925927e+02, 1.34919867e+02, 1.37913806e+02, 1.40907746e+02,\n",
       "       1.43901685e+02, 1.46895625e+02, 1.49889564e+02, 1.52883504e+02,\n",
       "       1.55877443e+02, 1.58871383e+02, 1.61865322e+02, 1.64859262e+02,\n",
       "       1.67853201e+02, 1.70847140e+02, 1.73841080e+02, 1.76835019e+02,\n",
       "       1.79828959e+02, 1.82822898e+02, 1.85816838e+02, 1.88810777e+02,\n",
       "       1.91804717e+02, 1.94798656e+02, 1.97792596e+02, 2.00786535e+02,\n",
       "       2.03780474e+02, 2.06774414e+02, 2.09768353e+02, 2.12762293e+02,\n",
       "       2.15756232e+02, 2.18750172e+02, 2.21744111e+02, 2.24738051e+02,\n",
       "       2.27731990e+02, 2.30725930e+02, 2.33719869e+02, 2.36713808e+02,\n",
       "       2.39707748e+02, 2.42701687e+02, 2.45695627e+02, 2.48689566e+02,\n",
       "       2.51683506e+02, 2.54677445e+02, 2.57671385e+02, 2.60665324e+02,\n",
       "       2.63659264e+02, 2.66653203e+02, 2.69647143e+02, 2.72641082e+02,\n",
       "       2.75635021e+02, 2.78628961e+02, 2.81622900e+02, 2.84616840e+02,\n",
       "       2.87610779e+02, 2.90604719e+02, 2.93598658e+02, 2.96592598e+02,\n",
       "       2.99586537e+02, 3.02580477e+02, 3.05574416e+02, 3.08568355e+02,\n",
       "       3.11562295e+02, 3.14556234e+02, 3.17550174e+02, 3.20544113e+02,\n",
       "       3.23538053e+02, 3.26531992e+02, 3.29525932e+02, 3.32519871e+02,\n",
       "       3.35513811e+02, 3.38507750e+02, 3.41501689e+02, 3.44495629e+02,\n",
       "       3.47489568e+02, 3.50483508e+02, 3.53477447e+02, 3.56471387e+02,\n",
       "       3.59465326e+02, 3.62459266e+02, 3.65453205e+02, 3.68447145e+02,\n",
       "       3.71441084e+02, 3.74435023e+02, 3.77428963e+02, 3.80422902e+02,\n",
       "       3.83416842e+02, 3.86410781e+02, 3.89404721e+02, 3.92398660e+02,\n",
       "       3.95392600e+02, 3.98386539e+02, 4.01380479e+02, 4.04374418e+02,\n",
       "       4.07368358e+02, 4.10362297e+02, 4.13356236e+02, 4.16350176e+02,\n",
       "       4.19344115e+02, 4.22338055e+02, 4.25331994e+02, 4.28325934e+02,\n",
       "       4.31319873e+02, 4.34313813e+02, 4.37307752e+02, 4.40301692e+02,\n",
       "       4.43295631e+02, 4.46289570e+02, 4.49283510e+02, 4.52277449e+02,\n",
       "       4.55271389e+02, 4.58265328e+02, 4.61259268e+02, 4.64253207e+02,\n",
       "       4.67247147e+02, 4.70241086e+02, 4.73235026e+02, 4.76228965e+02,\n",
       "       4.79222904e+02, 4.82216844e+02, 4.85210783e+02, 4.88204723e+02,\n",
       "       4.91198662e+02, 4.94192602e+02, 4.97186541e+02, 5.00180481e+02,\n",
       "       5.03174420e+02, 5.06168360e+02, 5.09162299e+02, 5.12156239e+02,\n",
       "       5.15150178e+02, 5.18144117e+02, 5.21138057e+02, 5.24131996e+02,\n",
       "       5.27125936e+02, 5.30119875e+02, 5.33113815e+02, 5.36107754e+02,\n",
       "       5.39101694e+02, 5.42095633e+02, 5.45089573e+02, 5.48083512e+02,\n",
       "       5.51077451e+02, 5.54071391e+02, 5.57065330e+02, 5.60059270e+02,\n",
       "       5.63053209e+02, 5.66047149e+02, 5.69041088e+02, 5.72035028e+02,\n",
       "       5.75028967e+02, 5.78022907e+02, 5.81016846e+02, 5.84010785e+02,\n",
       "       5.87004725e+02, 5.89998664e+02, 5.92992604e+02, 5.95986543e+02])"
      ]
     },
     "execution_count": 89,
     "metadata": {},
     "output_type": "execute_result"
    }
   ],
   "source": [
    "f(x,*popt*1e7)"
   ]
  },
  {
   "cell_type": "code",
   "execution_count": 29,
   "id": "9558ecc9",
   "metadata": {},
   "outputs": [
    {
     "data": {
      "text/plain": [
       "<matplotlib.lines.Line2D at 0x7f39de26e350>"
      ]
     },
     "execution_count": 29,
     "metadata": {},
     "output_type": "execute_result"
    },
    {
     "data": {
      "image/png": "[encoded data removed]",
      "text/plain": [
       "<Figure size 640x480 with 1 Axes>"
      ]
     },
     "metadata": {},
     "output_type": "display_data"
    }
   ],
   "source": [
    "plt.plot(n,f(n,*popt)-D**2,'bo')\n",
    "plt.axhline(np.std(D**2))\n",
    "plt.axhline(-np.std(D**2))"
   ]
  },
  {
   "cell_type": "code",
   "execution_count": 42,
   "id": "b9b75c69",
   "metadata": {},
   "outputs": [],
   "source": [
    "D**2\n",
    "\n",
    "D2=[59.9076,54.0225,48.0249,41.0881,35.2836,30.6916,24.6016,19.2721,11.2896,8.7616,5.8081,2.7889]\n",
    "D2=np.array(D2)\n",
    "\n"
   ]
  },
  {
   "cell_type": "markdown",
   "id": "a971d20b",
   "metadata": {},
   "source": [
    "$Wavelength=509.13874 +- $nm"
   ]
  },
  {
   "cell_type": "code",
   "execution_count": 78,
   "id": "fed5ad3c",
   "metadata": {},
   "outputs": [],
   "source": [
    "def err_(D,m):\n",
    "    del_D=0.01*1e-3\n",
    "    del_n=1\n",
    "    del_R=0.067*1e-2\n",
    "    R=96.527*1e-2\n",
    "    #&= \\sqrt{\\left( \\left( D * 8 / (4 * m * R) ^ 2 * m * R \\right) \\cdot \\Delta D \\right)^2 + \\left( \\left( -(D ^ 2 * 4 / (4 * m * R) ^ 2 * R) \\right) \\cdot \\Delta m \\right)^2 + \\left( \\left( -(D ^ 2 * 4 / (4 * m * R) ^ 2 * m) \\right) \\cdot \\Delta R \\right)^2}\n",
    "    return np.sqrt((D*8/((4*m*R)**2)*m*R*del_D)**2+(((D**2)*4/((4*m*R)**2)*R)*del_n)**2+(((D**2)*4/((4*m*R)**2)*m*del_R)**2))"
   ]
  },
  {
   "cell_type": "code",
   "execution_count": 80,
   "id": "07d78ad5",
   "metadata": {},
   "outputs": [],
   "source": [
    "dL=err_(D*1e-3,n)\n",
    "def dd(D,n):\n",
    "    R=1.4701\n",
    "    return D**2/(4*n*R)\n",
    "ll=dd(D*1e-3,n)\n",
    "L=np.sum(ll/(dL**2))/np.sum(1/(dL)**2)\n",
    "\n",
    "del_L=1/np.sqrt(np.sum(1/(dL)**2))"
   ]
  },
  {
   "cell_type": "code",
   "execution_count": 58,
   "id": "a2db92df",
   "metadata": {},
   "outputs": [
    {
     "data": {
      "text/plain": [
       "509.064989769455"
      ]
     },
     "execution_count": 58,
     "metadata": {},
     "output_type": "execute_result"
    }
   ],
   "source": [
    "L*1e9"
   ]
  },
  {
   "cell_type": "code",
   "execution_count": 81,
   "id": "c0e36fe3",
   "metadata": {},
   "outputs": [
    {
     "data": {
      "text/plain": [
       "174.99270927154325"
      ]
     },
     "execution_count": 81,
     "metadata": {},
     "output_type": "execute_result"
    }
   ],
   "source": [
    "np.mean(dL)*1e9"
   ]
  },
  {
   "cell_type": "code",
   "execution_count": 79,
   "id": "fd12ea6c",
   "metadata": {},
   "outputs": [
    {
     "data": {
      "text/plain": [
       "70.98626670082685"
      ]
     },
     "execution_count": 79,
     "metadata": {},
     "output_type": "execute_result"
    }
   ],
   "source": [
    "err_(np.mean(D*1e-3),np.mean(n))*1e9"
   ]
  },
  {
   "cell_type": "code",
   "execution_count": 59,
   "id": "cb228eee",
   "metadata": {},
   "outputs": [
    {
     "data": {
      "text/plain": [
       "12.94575837013022"
      ]
     },
     "execution_count": 59,
     "metadata": {},
     "output_type": "execute_result"
    }
   ],
   "source": [
    "del_L*1e9"
   ]
  }
 ],
 "metadata": {
  "kernelspec": {
   "display_name": "Python 3 (ipykernel)",
   "language": "python",
   "name": "python3"
  },
  "language_info": {
   "codemirror_mode": {
    "name": "ipython",
    "version": 3
   },
   "file_extension": ".py",
   "mimetype": "text/x-python",
   "name": "python",
   "nbconvert_exporter": "python",
   "pygments_lexer": "ipython3",
   "version": "3.10.9"
  }
 },
 "nbformat": 4,
 "nbformat_minor": 5
}
